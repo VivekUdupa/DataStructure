{
 "cells": [
  {
   "cell_type": "markdown",
   "metadata": {},
   "source": [
    "# Object Oriented Design and Testing"
   ]
  },
  {
   "cell_type": "markdown",
   "metadata": {},
   "source": [
    "## subclassing \n",
    "\n",
    "You should always derive from 'object' if you don't have another base class (this is called \"new style classes\" in Python). There is no way to do abstract base classes in the language, but you can create a function that throws an error if a derived class is not implementing a certain function.\n",
    "\n",
    "Subclassing can be used for polymorphism (inherit interface) and inheritance (inherit interface and behavior)"
   ]
  },
  {
   "cell_type": "code",
   "execution_count": 6,
   "metadata": {},
   "outputs": [
    {
     "name": "stdout",
     "output_type": "stream",
     "text": [
      "shape '7 by 7 square' has area 49\n",
      "shape '7 by 7 square' has area 49\n"
     ]
    }
   ],
   "source": [
    "class Shape(object): # Shape inherits from object\n",
    "    def area(self):\n",
    "        raise NotImplementedError(\"Please implement this method!\")\n",
    "        \n",
    "class Triangle(Shape):\n",
    "    def __init__(self, width, height):\n",
    "        self.width = width\n",
    "        self.height = height\n",
    "        \n",
    "    def area(self):\n",
    "        return self.width*self.height/2.0\n",
    "            \n",
    "    def __str__(self):\n",
    "        # this function will be called when you do str(obj)\n",
    "        return str(self.width) + \" by \" + str(self.height) + \" triangle\"\n",
    "        \n",
    "class Rectangle(Shape): # Rectangle inherits from Shape\n",
    "    def __init__(self, width, height):\n",
    "        self.width = width\n",
    "        self.height = height\n",
    "        \n",
    "    def area(self):\n",
    "        return self.width*self.height\n",
    "    \n",
    "    def scale(self, factor_x, factor_y):\n",
    "        self.width *= factor_x\n",
    "        self.height *= factor_y\n",
    "\n",
    "    def __str__(self):\n",
    "        # this function will be called when you do str(obj)\n",
    "        return str(self.width) + \" by \" + str(self.height) + \" rectangle\"\n",
    "        \n",
    "class Square(Rectangle): # Square inherits from Rectangle\n",
    "    \"\"\" this is a bad example, because a Square is not a Rectangle! \"\"\"\n",
    "    def __init__(self, side):\n",
    "        #self.width = side\n",
    "        #self.height = side\n",
    "        Rectangle.__init__(self, side, side) # call base class constructor\n",
    "\n",
    "    def scale(self, factor_x, factor_y):\n",
    "        Rectangle.scale(self, factor_x, factor_x)\n",
    "    \n",
    "    def __str__(self):\n",
    "        # this function will be called when you do str(obj)\n",
    "        return str(self.width) + \" by \" + str(self.width) + \" square\"\n",
    "    \n",
    "class NotAShape(object):\n",
    "    def area_1(self):\n",
    "        return -1\n",
    "    \n",
    "def print_area(shape):\n",
    "    print (\"shape '{}' has area {}\".format(str(shape), shape.area()))\n",
    "    \n",
    "r = Rectangle(20,10)\n",
    "s = Square(7)\n",
    "print_area(s)\n",
    "#print_area(t)\n",
    "#print_area(NotAShape())\n",
    "s.scale(1,2)\n",
    "\n",
    "print_area(s)# this is why Square should not be derived from Rectangle!"
   ]
  },
  {
   "cell_type": "code",
   "execution_count": null,
   "metadata": {},
   "outputs": [],
   "source": [
    "help(object)"
   ]
  },
  {
   "cell_type": "markdown",
   "metadata": {},
   "source": [
    "## duck typing\n",
    "\n",
    "See https://en.wikipedia.org/wiki/Duck_typing\n",
    "\n",
    "\" When I see a bird that walks like a duck and swims like a duck and quacks like a duck, I call that bird a duck.\"\n",
    "\n",
    "In contrast to other languages like C++, Python is dynamically typed and allows for polymorphism without a common base class (called duck typing). It is probably still a good idea to create a base class to document what needs to be implemented."
   ]
  },
  {
   "cell_type": "code",
   "execution_count": 8,
   "metadata": {},
   "outputs": [
    {
     "name": "stdout",
     "output_type": "stream",
     "text": [
      "<__main__.Person object at 0x7f54a4d8d390>\n",
      "Hello! My Name is Frank\n",
      "age is 19\n",
      "<__main__.Dog object at 0x7f54a4d8d898>\n",
      "woof!\n"
     ]
    }
   ],
   "source": [
    "class Person(object):\n",
    "    def __init__(self, name):\n",
    "        self.name = name\n",
    "        \n",
    "    def talk(self):\n",
    "        print (\"Hello! My Name is\", self.name)\n",
    "        \n",
    "    def age(self):\n",
    "        return 19\n",
    "        \n",
    "class Dog(object):\n",
    "    def talk(self):\n",
    "        print (\"woof!\")\n",
    "        \n",
    "def lets_talk(obj):\n",
    "    print (obj)\n",
    "    obj.talk()\n",
    "\n",
    "def print_age(obj):\n",
    "    print (\"age is\",obj.age())\n",
    "    \n",
    "p = Person(\"Frank\")\n",
    "d = Dog()\n",
    "lets_talk(p)\n",
    "print_age(p)\n",
    "lets_talk(d)\n",
    "\n",
    "# these won't work:\n",
    "#print_age(d)          # AttributeError: 'Dog' object has no attribute 'age'\n",
    "if False:\n",
    "    lets_talk(1)  # AttributeError: 'str' object has no attribute 'talk'"
   ]
  },
  {
   "cell_type": "markdown",
   "metadata": {},
   "source": [
    "## Testing\n",
    "create a class for a test case deriving from unittest.TestCase, write functions starting with \"test_\". See https://docs.python.org/2/library/unittest.html"
   ]
  },
  {
   "cell_type": "code",
   "execution_count": 9,
   "metadata": {},
   "outputs": [],
   "source": [
    "import unittest, sys\n",
    "\n",
    "def binary_search(arr,x, imin, imax):\n",
    "    if imin==imax:\n",
    "        return -1\n",
    "\n",
    "    m = (imin+imax)//2\n",
    "    \n",
    "    if arr[m]==x:\n",
    "        return m\n",
    "    if arr[m]<x:\n",
    "        return binary_search(arr,x,m+1,imax)\n",
    "    else:\n",
    "        return binary_search(arr,x,imin,m)\n",
    "\n",
    "def find(arr, x):\n",
    "    \"\"\" return index i so that arr[i]==x or -1 if x is not in arr\"\"\"\n",
    "    return binary_search(arr,x,0,len(arr))\n",
    "\n",
    "\n",
    "class TestFind(unittest.TestCase):\n",
    "    def test_beginning(self):\n",
    "        arr=[1,2,3,4]\n",
    "        print (find(arr,1))\n",
    "        self.assertEqual(find(arr,1), 0)\n",
    "\n",
    "    def test_end(self):\n",
    "        arr=[1,2,3,4]\n",
    "        self.assertEqual(find(arr,4), 3)\n",
    "\n",
    "    def test_empty(self):\n",
    "        arr=[]\n",
    "        self.assertEqual(find(arr,7), -1)\n",
    "        \n",
    "    def test_not_found(self):\n",
    "        arr=[2,4,6]\n",
    "        self.assertEqual(find(arr,7), 0)\n",
    "        self.assertEqual(find(arr,3), -1)\n",
    "        self.assertEqual(find(arr,1), -1)\n",
    "    \n",
    "        \n"
   ]
  },
  {
   "cell_type": "code",
   "execution_count": 10,
   "metadata": {},
   "outputs": [
    {
     "name": "stderr",
     "output_type": "stream",
     "text": [
      "...F"
     ]
    },
    {
     "name": "stdout",
     "output_type": "stream",
     "text": [
      "0\n"
     ]
    },
    {
     "name": "stderr",
     "output_type": "stream",
     "text": [
      "\n",
      "======================================================================\n",
      "FAIL: test_not_found (__main__.TestFind)\n",
      "----------------------------------------------------------------------\n",
      "Traceback (most recent call last):\n",
      "  File \"<ipython-input-9-353c058f23f7>\", line 37, in test_not_found\n",
      "    self.assertEqual(find(arr,7), 0)\n",
      "AssertionError: -1 != 0\n",
      "\n",
      "----------------------------------------------------------------------\n",
      "Ran 4 tests in 0.003s\n",
      "\n",
      "FAILED (failures=1)\n"
     ]
    },
    {
     "data": {
      "text/plain": [
       "<unittest.runner.TextTestResult run=4 errors=0 failures=1>"
      ]
     },
     "execution_count": 10,
     "metadata": {},
     "output_type": "execute_result"
    }
   ],
   "source": [
    "suite = unittest.TestLoader().loadTestsFromTestCase(TestFind)\n",
    "unittest.TextTestRunner(verbosity=1).run(suite)"
   ]
  },
  {
   "cell_type": "code",
   "execution_count": 11,
   "metadata": {},
   "outputs": [
    {
     "name": "stderr",
     "output_type": "stream",
     "text": [
      ".\n",
      "----------------------------------------------------------------------\n",
      "Ran 1 test in 0.001s\n",
      "\n",
      "OK\n"
     ]
    },
    {
     "data": {
      "text/plain": [
       "<unittest.runner.TextTestResult run=1 errors=0 failures=0>"
      ]
     },
     "execution_count": 11,
     "metadata": {},
     "output_type": "execute_result"
    }
   ],
   "source": [
    "# test driven development demo if we have time\n",
    "\n",
    "def lower_bound(arr,x):\n",
    "    \"\"\" return smallest index i so that x<=arr[i] in the sorted array arr.\n",
    "    Will return len(arr) if all elements are less than x.\"\"\"\n",
    "    pass\n",
    "\n",
    "\n",
    "\n",
    "#make sure to test empty, before, after, middle, same values, etc.\n",
    "class TestLowerBound(unittest.TestCase):\n",
    "    def test_1(self):\n",
    "        pass\n",
    "\n",
    "suite = unittest.TestLoader().loadTestsFromTestCase(TestLowerBound)\n",
    "unittest.TextTestRunner(verbosity=1).run(suite)"
   ]
  },
  {
   "cell_type": "code",
   "execution_count": null,
   "metadata": {},
   "outputs": [],
   "source": []
  }
 ],
 "metadata": {
  "kernelspec": {
   "display_name": "Python 3",
   "language": "python",
   "name": "python3"
  },
  "language_info": {
   "codemirror_mode": {
    "name": "ipython",
    "version": 3
   },
   "file_extension": ".py",
   "mimetype": "text/x-python",
   "name": "python",
   "nbconvert_exporter": "python",
   "pygments_lexer": "ipython3",
   "version": "3.6.4"
  },
  "name": "oo.ipynb"
 },
 "nbformat": 4,
 "nbformat_minor": 1
}
