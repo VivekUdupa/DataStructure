{
 "cells": [
  {
   "cell_type": "markdown",
   "metadata": {},
   "source": [
    "\n",
    "# HW05 - Exploring Trees/Graphs\n",
    "\n",
    "Name : Vivek Koodli Udupa"
   ]
  },
  {
   "cell_type": "markdown",
   "metadata": {},
   "source": [
    "Some facts about trees:\n",
    "+ A tree is connected and contains no cycles (by definition).\n",
    "+ A tree with *n* nodes has *n* - 1 edges.\n",
    "+ Every node in a tree except the root has a single parent.\n",
    "+ In a tree, there is a unique path between every pair of nodes. In particular, there is a unique path of ancestors from every node to the root.\n",
    "\n",
    "In this exercise, we use Python dictionaries to represent trees, rather than constructing the linked structures explicitly. Each dictionary entry maps a parent node to a list of its children."
   ]
  },
  {
   "cell_type": "code",
   "execution_count": 1,
   "metadata": {},
   "outputs": [
    {
     "name": "stdout",
     "output_type": "stream",
     "text": [
      "T has 25 edges\n",
      "T has 26 vertices\n"
     ]
    }
   ],
   "source": [
    "# here is a list of edges (parent, child):\n",
    "T = [('Bob','Eve'),('Alice','Carol'),('Eve','Frank'),('Alice','Doug'),('Frank','Ginger'), \\\n",
    "         ('Eve','Howard'),('Carol','Irene'),('Frank','Jeff'),('Doug','Kathy'),('Bob','Luis'), \\\n",
    "         ('Alice','Bob'),('Bob','Mabel'),('Ginger','Norm'),('Howard','Oprah'),('Carol','Peter'), \\\n",
    "         ('Kathy','Queen'),('Mabel','Ursala'),('Luis','Ronald'),('Ginger','Sarah'),('Irene','Tom'), \\\n",
    "         ('Jeff','Vince'),('Peter','Wanda'),('Oprah','Xanthia'),('Norm','Yaakov'),('Luis','Zandra')]\n",
    "\n",
    "print ('T has',len(T),'edges')\n",
    "vertices = set()\n",
    "for edge in T:\n",
    "    s,t = edge\n",
    "    vertices.add(s)\n",
    "    vertices.add(t)\n",
    "print ('T has',len(vertices),'vertices')"
   ]
  },
  {
   "cell_type": "markdown",
   "metadata": {},
   "source": [
    "So this could be a tree. Now lets compute the number of parents for each vertex. The result confirms that we indeed have a tree and that the root is Alice (right?)."
   ]
  },
  {
   "cell_type": "code",
   "execution_count": 2,
   "metadata": {},
   "outputs": [
    {
     "name": "stdout",
     "output_type": "stream",
     "text": [
      "{'Ronald': 1, 'Yaakov': 1, 'Doug': 1, 'Oprah': 1, 'Frank': 1, 'Sarah': 1, 'Kathy': 1, 'Norm': 1, 'Queen': 1, 'Zandra': 1, 'Xanthia': 1, 'Tom': 1, 'Wanda': 1, 'Ginger': 1, 'Carol': 1, 'Ursala': 1, 'Howard': 1, 'Jeff': 1, 'Bob': 1, 'Luis': 1, 'Eve': 1, 'Irene': 1, 'Peter': 1, 'Mabel': 1, 'Alice': 0, 'Vince': 1}\n"
     ]
    }
   ],
   "source": [
    "np = {}\n",
    "for v in vertices:\n",
    "    np[v] = 0\n",
    "for parent,child in T:\n",
    "    np[child] += 1\n",
    "print (np)"
   ]
  },
  {
   "cell_type": "markdown",
   "metadata": {},
   "source": [
    "We now construct a dictionary of pairs (p,c) where p is the parent of the list of children c"
   ]
  },
  {
   "cell_type": "code",
   "execution_count": 3,
   "metadata": {},
   "outputs": [
    {
     "name": "stdout",
     "output_type": "stream",
     "text": [
      "node and children:\n",
      "Ronald : []\n",
      "Yaakov : []\n",
      "Doug : ['Kathy']\n",
      "Oprah : ['Xanthia']\n",
      "Frank : ['Ginger', 'Jeff']\n",
      "Sarah : []\n",
      "Kathy : ['Queen']\n",
      "Norm : ['Yaakov']\n",
      "Queen : []\n",
      "Zandra : []\n",
      "Xanthia : []\n",
      "Tom : []\n",
      "Wanda : []\n",
      "Ginger : ['Norm', 'Sarah']\n",
      "Carol : ['Irene', 'Peter']\n",
      "Ursala : []\n",
      "Howard : ['Oprah']\n",
      "Jeff : ['Vince']\n",
      "Bob : ['Eve', 'Luis', 'Mabel']\n",
      "Luis : ['Ronald', 'Zandra']\n",
      "Eve : ['Frank', 'Howard']\n",
      "Irene : ['Tom']\n",
      "Peter : ['Wanda']\n",
      "Mabel : ['Ursala']\n",
      "Alice : ['Carol', 'Doug', 'Bob']\n",
      "Vince : []\n",
      "\n",
      "{'Ronald': [], 'Yaakov': [], 'Doug': ['Kathy'], 'Oprah': ['Xanthia'], 'Frank': ['Ginger', 'Jeff'], 'Sarah': [], 'Kathy': ['Queen'], 'Norm': ['Yaakov'], 'Queen': [], 'Zandra': [], 'Xanthia': [], 'Tom': [], 'Wanda': [], 'Ginger': ['Norm', 'Sarah'], 'Carol': ['Irene', 'Peter'], 'Ursala': [], 'Howard': ['Oprah'], 'Jeff': ['Vince'], 'Bob': ['Eve', 'Luis', 'Mabel'], 'Luis': ['Ronald', 'Zandra'], 'Eve': ['Frank', 'Howard'], 'Irene': ['Tom'], 'Peter': ['Wanda'], 'Mabel': ['Ursala'], 'Alice': ['Carol', 'Doug', 'Bob'], 'Vince': []}\n"
     ]
    }
   ],
   "source": [
    "adjacency_map = {}\n",
    "for v in vertices:\n",
    "    adjacency_map[v] = []\n",
    "for p,c in T:\n",
    "    adjacency_map[p].append(c)\n",
    "\n",
    "print (\"node and children:\")\n",
    "for p in adjacency_map:\n",
    "    print (p, \":\", adjacency_map[p])\n",
    "\n",
    "print ()\n",
    "print (adjacency_map)"
   ]
  },
  {
   "cell_type": "code",
   "execution_count": 4,
   "metadata": {},
   "outputs": [
    {
     "name": "stdout",
     "output_type": "stream",
     "text": [
      "Hello! Hello! Hello! Hello! Hello! \n"
     ]
    }
   ],
   "source": [
    "# Example of string replication\n",
    "\n",
    "print (5*\"Hello! \")"
   ]
  },
  {
   "cell_type": "code",
   "execution_count": 5,
   "metadata": {},
   "outputs": [
    {
     "name": "stdout",
     "output_type": "stream",
     "text": [
      " Alice\n",
      "|  Carol\n",
      "| |  Irene\n",
      "| | |  Tom\n",
      "| |  Peter\n",
      "| | |  Wanda\n",
      "|  Doug\n",
      "| |  Kathy\n",
      "| | |  Queen\n",
      "|  Bob\n",
      "| |  Eve\n",
      "| | |  Frank\n",
      "| | | |  Ginger\n",
      "| | | | |  Norm\n",
      "| | | | | |  Yaakov\n",
      "| | | | |  Sarah\n",
      "| | | |  Jeff\n",
      "| | | | |  Vince\n",
      "| | |  Howard\n",
      "| | | |  Oprah\n",
      "| | | | |  Xanthia\n",
      "| |  Luis\n",
      "| | |  Ronald\n",
      "| | |  Zandra\n",
      "| |  Mabel\n",
      "| | |  Ursala\n"
     ]
    }
   ],
   "source": [
    "# A recursive Depth-First traversal of a tree defined by an adjacency_map\n",
    "def print_tree_depth_first(parent, adjacency_map, level=0):\n",
    "    print (level*'| ', parent)\n",
    "    children = adjacency_map[parent]\n",
    "    for child in children:\n",
    "        print_tree_depth_first(child, adjacency_map, level+1)\n",
    "\n",
    "root = 'Alice'\n",
    "print_tree_depth_first(root, adjacency_map)"
   ]
  },
  {
   "cell_type": "markdown",
   "metadata": {},
   "source": [
    "## Question 1\n",
    "Extend the following breadth-first traversal function to include the generation, so that the output is like below. Do this by storing a tuple with generation and node in the queue."
   ]
  },
  {
   "cell_type": "raw",
   "metadata": {},
   "source": [
    "1: Alice\n",
    "2: Carol Doug Bob\n",
    "3: ..."
   ]
  },
  {
   "cell_type": "code",
   "execution_count": 6,
   "metadata": {},
   "outputs": [
    {
     "name": "stdout",
     "output_type": "stream",
     "text": [
      "Alice\n",
      "Carol\n",
      "Doug\n",
      "Bob\n",
      "Irene\n",
      "Peter\n",
      "Kathy\n",
      "Eve\n",
      "Luis\n",
      "Mabel\n",
      "Tom\n",
      "Wanda\n",
      "Queen\n",
      "Frank\n",
      "Howard\n",
      "Ronald\n",
      "Zandra\n",
      "Ursala\n",
      "Ginger\n",
      "Jeff\n",
      "Oprah\n",
      "Norm\n",
      "Sarah\n",
      "Vince\n",
      "Xanthia\n",
      "Yaakov\n"
     ]
    }
   ],
   "source": [
    "from collections import deque \n",
    "\n",
    "# breadth-first traversal using a queue\n",
    "def print_tree_breath_first(root, adjacency_map):\n",
    "    Q = deque()\n",
    "    Q.append(root)\n",
    "    while len(Q)>0:\n",
    "        p = Q.popleft()\n",
    "        print (p)\n",
    "        children = adjacency_map[p]\n",
    "        for child in children:\n",
    "            Q.append(child)\n",
    "        \n",
    "\n",
    "print_tree_breath_first(\"Alice\", adjacency_map)\n"
   ]
  },
  {
   "cell_type": "code",
   "execution_count": 7,
   "metadata": {},
   "outputs": [
    {
     "name": "stdout",
     "output_type": "stream",
     "text": [
      "1 : Alice\n",
      "\n",
      "2 : Carol  Doug  Bob  \n",
      "\n",
      "3 : Irene  Peter  Kathy  Eve  Luis  Mabel  \n",
      "\n",
      "4 : Tom  Wanda  Queen  Frank  Howard  Ronald  Zandra  Ursala  \n",
      "\n",
      "5 : Ginger  Jeff  Oprah  \n",
      "\n",
      "6 : Norm  Sarah  Vince  Xanthia  \n",
      "\n",
      "7 : Yaakov  \n",
      "\n",
      "8 : "
     ]
    }
   ],
   "source": [
    "#MY CODE\n",
    "from collections import deque \n",
    "\n",
    "# breadth-first traversal using a queue\n",
    "def print_tree_breath_first(root, adjacency_map):\n",
    "    #Main deque\n",
    "    Q = deque()\n",
    "    #deque to store next generation\n",
    "    kids = deque()\n",
    "    #Add the initial entry, ROOT\n",
    "    Q.append(root)\n",
    "    #initialize count to 1\n",
    "    count = 1\n",
    "    #Print the root without newline character in the end\n",
    "    print(count, \":\", root, end = \"\", flush = True)\n",
    "    #Finds the kinds of every parent existing in Q\n",
    "    while len(Q)>0:\n",
    "        p = Q.popleft()\n",
    "        #Get the adjacency map for the parent p\n",
    "        children = adjacency_map[p]\n",
    "        #Store chindren in a new deque\n",
    "        for child in children:\n",
    "            kids.append(child)\n",
    "        #Print the current generation    \n",
    "        if len(Q)==0 :\n",
    "            x = []\n",
    "            count += 1\n",
    "            print(\"\\n\")\n",
    "            print(count, \": \",end = \"\", flush = True)\n",
    "            while len(kids)>0:\n",
    "                x = kids.popleft()\n",
    "                print(x, \" \", end = \"\", flush = True)\n",
    "                Q.append(x)\n",
    "                \n",
    "print_tree_breath_first(\"Alice\", adjacency_map)\n"
   ]
  },
  {
   "cell_type": "markdown",
   "metadata": {},
   "source": [
    "## Question 2\n",
    "\n",
    "Write a function that checks if for the given directed graph (given by a list of edges E) root is connected to every other vertex."
   ]
  },
  {
   "cell_type": "code",
   "execution_count": 8,
   "metadata": {},
   "outputs": [],
   "source": [
    "from collections import deque \n",
    "\n",
    "def adjacency_map_gen(vertices,tree):\n",
    "    \"\"\"This function return the adjacency map for the given vertices\"\"\"\n",
    "    #Define a adjacency_map array\n",
    "    adjacency_map = {}\n",
    "    \n",
    "    #Initialize the adjacency map\n",
    "    for v in vertices:\n",
    "        adjacency_map[v] = []\n",
    "    \n",
    "    #Add corrosponding children to every parent\n",
    "    for p,c in tree:\n",
    "        adjacency_map[p].append(c)\n",
    "    \n",
    "    return adjacency_map\n",
    "    \n",
    "    \n",
    "\n",
    "def vertice_gen(edge_list):\n",
    "    \"\"\"Generates vertices for the given edge_list\"\"\"\n",
    "    vertices = set()\n",
    "    for edges in edge_list:\n",
    "        x,y = edges\n",
    "        vertices.add(x)\n",
    "        vertices.add(y)\n",
    "        \n",
    "    #visited list represents the status of every vertice\n",
    "    #it is true of the vertice has been visited\n",
    "    #initialize it to flase\n",
    "    visited = [0]* len(vertices)\n",
    "    \n",
    "    return visited,vertices\n",
    "    \n",
    "def all_connected_to(edge_list, root):\n",
    "    \"\"\" return true if you can reach all nodes in the graph given\n",
    "    by a list of edges (edge_list) can be reached by root \"\"\"\n",
    "    \n",
    "    # start by constructing set of vertices and a dictionary for looking up children\n",
    "    \n",
    "    #Construct a set of vertices\n",
    "    visited,vertices = vertice_gen(edge_list)\n",
    "    #above function runs in time O(n)\n",
    "\n",
    "    #make a queue to store parents\n",
    "    parent = deque()\n",
    "    parent.append(root)\n",
    "\n",
    "    adj = adjacency_map_gen(vertices, edge_list)\n",
    "    # adj runs in time O(n)\n",
    "\n",
    "    index = 0\n",
    "    #Root is visited\n",
    "    visited[index] = 1\n",
    "    \n",
    "    #The following while loop runs in time O(n^2)\n",
    "    while len(parent) > 0:\n",
    "        x = parent.popleft()\n",
    "        children = adj[x]\n",
    "        \n",
    "        for child in children:\n",
    "            index += 1\n",
    "            if (child == root):\n",
    "#                 print(\"Looping back\")\n",
    "                break\n",
    "            else:\n",
    "                visited[index] = 1;\n",
    "                parent.append(child)  \n",
    "    \n",
    "    \n",
    "#     print (\"Final visited array: \", visited)\n",
    "#     print(\"Is the root connected to all vertices?\")\n",
    "    item = 0\n",
    "    #following while runs in time O(n)\n",
    "    while item < len(visited) :\n",
    "        if(visited[item] == 0):\n",
    "            return False\n",
    "        item += 1\n",
    "\n",
    "    return True\n",
    "\n",
    "\n",
    "    "
   ]
  },
  {
   "cell_type": "code",
   "execution_count": 9,
   "metadata": {},
   "outputs": [],
   "source": [
    "# This function runs in time O(n^2)\n",
    "# Explain ...\n",
    "\n",
    "# The whole function runs in time O(n) + O(n) + O(n^2) + O(n). which is equivalent to O(n^2)\n",
    "#Each function with single for loop takes O(n), but the while loop which contains a for loop inside it collectively takes O(n^2). Thus the overall execution time is O(n^2)"
   ]
  },
  {
   "cell_type": "code",
   "execution_count": 10,
   "metadata": {},
   "outputs": [
    {
     "name": "stdout",
     "output_type": "stream",
     "text": [
      "Is graph G connected? \n",
      "True\n",
      "\n",
      "\n",
      "Is graph G2 connected for root A? \n",
      "False\n",
      "Is graph G2 connected for root 1? \n",
      "False\n",
      "\n",
      "\n",
      "Is graph G3 connected? \n",
      "True\n",
      "\n",
      "\n",
      "Is our above mentioned graph T connected? \n",
      "True\n"
     ]
    }
   ],
   "source": [
    "G = [(\"A\",\"B\"), (\"B\",\"C\")]\n",
    "print(\"Is graph G connected? \")\n",
    "print (all_connected_to(G, \"A\"))\n",
    "print(\"\\n\")\n",
    "\n",
    "G2 = [(\"1\",\"2\"), (\"A\",\"B\"), (\"B\",\"C\"), (\"C\",\"A\")]\n",
    "print(\"Is graph G2 connected for root A? \")\n",
    "print (all_connected_to(G2, \"A\"))\n",
    "print(\"Is graph G2 connected for root 1? \")\n",
    "print (all_connected_to(G2, \"1\"))\n",
    "print(\"\\n\")\n",
    "\n",
    "print(\"Is graph G3 connected? \")\n",
    "G3 = [(\"A\",\"B\"), (\"B\",\"C\"), (\"C\",\"A\")]\n",
    "print (all_connected_to(G3, \"C\"))\n",
    "print(\"\\n\")\n",
    "\n",
    "# and our graph from above?\n",
    "print(\"Is our above mentioned graph T connected? \")\n",
    "print (all_connected_to(T, \"Alice\"))"
   ]
  },
  {
   "cell_type": "markdown",
   "metadata": {},
   "source": [
    "## Question 3\n",
    "We now treat the graph T from above as undirected (edges going in both directions) and construct a tree rooted in Bob. The tree will contain edges from a vertex to the parent and direct children. The result will tell us how far removed the vertices from our root Bob are."
   ]
  },
  {
   "cell_type": "code",
   "execution_count": 11,
   "metadata": {},
   "outputs": [
    {
     "name": "stdout",
     "output_type": "stream",
     "text": [
      "{'Ronald': [], 'Yaakov': [], 'Doug': ['Kathy'], 'Oprah': ['Xanthia'], 'Frank': ['Ginger', 'Jeff'], 'Sarah': [], 'Kathy': ['Queen'], 'Norm': ['Yaakov'], 'Queen': [], 'Zandra': [], 'Xanthia': [], 'Tom': [], 'Wanda': [], 'Ginger': ['Norm', 'Sarah'], 'Carol': ['Irene', 'Peter'], 'Ursala': [], 'Howard': ['Oprah'], 'Jeff': ['Vince'], 'Bob': ['Eve', 'Luis', 'Mabel', 'Alice'], 'Luis': ['Ronald', 'Zandra'], 'Eve': ['Frank', 'Howard'], 'Irene': ['Tom'], 'Peter': ['Wanda'], 'Mabel': ['Ursala'], 'Alice': ['Carol', 'Doug'], 'Vince': []}\n"
     ]
    }
   ],
   "source": [
    "root = 'Bob'\n",
    "tree = {}\n",
    "\n",
    "# construct adjacency for graph T:\n",
    "adjacency_map = {}\n",
    "for vertex in vertices:\n",
    "    tree[vertex] = []\n",
    "    adjacency_map[vertex] = []\n",
    "\n",
    "for edge in T:\n",
    "    s,t = edge\n",
    "    adjacency_map[s].append(t)\n",
    "    adjacency_map[t].append(s)\n",
    "\n",
    "\n",
    "for p,c in T:\n",
    "    tree[p].append(c)\n",
    "    \n",
    "# print (\"OLD parents/children of Ginger:\",adjacency_map['Ginger'])\n",
    "# print (adjacency_map)\n",
    "# print (vertices)\n",
    "\n",
    "\n",
    "# now create tree as a dictionary \"n maps to children(n)\"\n",
    "\n",
    "\n",
    "Q = deque()\n",
    "Q.append(root)\n",
    "# tree = adjacency_map\n",
    "#Replace the old root with the new root\n",
    "while len(Q)>0:\n",
    "    x = Q.popleft()\n",
    "    for p,item in T:\n",
    "        if x == item:\n",
    "            tree[x].append(p)\n",
    "            tree[p].remove(x)\n",
    "            Q.append(p)\n",
    "            \n",
    "\n",
    "print (tree)"
   ]
  },
  {
   "cell_type": "markdown",
   "metadata": {},
   "source": [
    "Execute the following two blocks to check your result:"
   ]
  },
  {
   "cell_type": "code",
   "execution_count": 12,
   "metadata": {},
   "outputs": [
    {
     "name": "stdout",
     "output_type": "stream",
     "text": [
      " Bob\n",
      "|  Eve\n",
      "| |  Frank\n",
      "| | |  Ginger\n",
      "| | | |  Norm\n",
      "| | | | |  Yaakov\n",
      "| | | |  Sarah\n",
      "| | |  Jeff\n",
      "| | | |  Vince\n",
      "| |  Howard\n",
      "| | |  Oprah\n",
      "| | | |  Xanthia\n",
      "|  Luis\n",
      "| |  Ronald\n",
      "| |  Zandra\n",
      "|  Mabel\n",
      "| |  Ursala\n",
      "|  Alice\n",
      "| |  Carol\n",
      "| | |  Irene\n",
      "| | | |  Tom\n",
      "| | |  Peter\n",
      "| | | |  Wanda\n",
      "| |  Doug\n",
      "| | |  Kathy\n",
      "| | | |  Queen\n"
     ]
    }
   ],
   "source": [
    "print_tree_depth_first(root, tree)"
   ]
  },
  {
   "cell_type": "code",
   "execution_count": 13,
   "metadata": {},
   "outputs": [
    {
     "name": "stdout",
     "output_type": "stream",
     "text": [
      "1 : Bob\n",
      "\n",
      "2 : Eve  Luis  Mabel  Alice  \n",
      "\n",
      "3 : Frank  Howard  Ronald  Zandra  Ursala  Carol  Doug  \n",
      "\n",
      "4 : Ginger  Jeff  Oprah  Irene  Peter  Kathy  \n",
      "\n",
      "5 : Norm  Sarah  Vince  Xanthia  Tom  Wanda  Queen  \n",
      "\n",
      "6 : Yaakov  \n",
      "\n",
      "7 : "
     ]
    }
   ],
   "source": [
    "print_tree_breath_first(root, tree)"
   ]
  },
  {
   "cell_type": "markdown",
   "metadata": {},
   "source": [
    "## Question 4: n queens problem\n",
    "Backtracking is the technique of recursively exploring the tree that contains all the possible solutions to a problem. Choose a systematic way to explore all the possible cases. This approach should reflect a rooted tree, and the backtracking approach is a depth-first search of the rooted tree. Whenever the search has found a solution or determined that there are no further solutions on the branches below the current vertex, backtrack to the preceeding vertex. \n",
    "\n",
    "A classic example of a problem that can be easily solved with this approach is the n queens problem.  This problem is to determine all the possible ways to place n nonattacking queens on an n-by-n chess board. The following code provides two helpful routines for this problem and illustrates one of the solutions for the 4 queens problem."
   ]
  },
  {
   "cell_type": "code",
   "execution_count": 14,
   "metadata": {},
   "outputs": [
    {
     "name": "stdout",
     "output_type": "stream",
     "text": [
      "[[0. 0. 0. 0.]\n",
      " [0. 0. 0. 0.]\n",
      " [0. 0. 0. 0.]\n",
      " [0. 0. 0. 0.]]\n",
      "..Q.\n",
      "Q...\n",
      "...Q\n",
      ".Q..\n",
      "\n"
     ]
    }
   ],
   "source": [
    "import numpy as np\n",
    "\n",
    "def build_chessboard(N):\n",
    "    chessboard = np.zeros((N,N))\n",
    "    return chessboard\n",
    "\n",
    "def print_chessboard(chessboard):\n",
    "    N = len(chessboard)\n",
    "    for r in range(N):\n",
    "        for c in range(N):\n",
    "            if chessboard[r,c] == 1:\n",
    "                print ('Q', end=\"\")\n",
    "            else:\n",
    "                print ('.', end=\"\")\n",
    "        print ()\n",
    "    print ()\n",
    "\n",
    "# generate an empty 4x4 chessboard:\n",
    "chessboard = build_chessboard(4)\n",
    "print (chessboard)\n",
    "\n",
    "# Place 4 non-attacking queens on this board\n",
    "chessboard[1,0] = 1\n",
    "chessboard[3,1] = 1\n",
    "chessboard[0,2] = 1\n",
    "chessboard[2,3] = 1\n",
    "\n",
    "# Pretty print the resulting board\n",
    "print_chessboard(chessboard)"
   ]
  },
  {
   "cell_type": "markdown",
   "metadata": {},
   "source": [
    "Complete the following code to solve the n queens problem by returning the total number of solutions while printing only the first five solutions."
   ]
  },
  {
   "cell_type": "code",
   "execution_count": 15,
   "metadata": {},
   "outputs": [
    {
     "name": "stdout",
     "output_type": "stream",
     "text": [
      "Q.......\n",
      "......Q.\n",
      "....Q...\n",
      ".......Q\n",
      ".Q......\n",
      "...Q....\n",
      ".....Q..\n",
      "..Q.....\n",
      "\n",
      "Q.......\n",
      "......Q.\n",
      "...Q....\n",
      ".....Q..\n",
      ".......Q\n",
      ".Q......\n",
      "....Q...\n",
      "..Q.....\n",
      "\n",
      "Q.......\n",
      ".....Q..\n",
      ".......Q\n",
      "..Q.....\n",
      "......Q.\n",
      "...Q....\n",
      ".Q......\n",
      "....Q...\n",
      "\n",
      "Q.......\n",
      "....Q...\n",
      ".......Q\n",
      ".....Q..\n",
      "..Q.....\n",
      "......Q.\n",
      ".Q......\n",
      "...Q....\n",
      "\n",
      ".....Q..\n",
      "Q.......\n",
      "....Q...\n",
      ".Q......\n",
      ".......Q\n",
      "..Q.....\n",
      "......Q.\n",
      "...Q....\n",
      "\n",
      "solutions:  92\n"
     ]
    }
   ],
   "source": [
    "def safe(chessboard, row, col):\n",
    "    \"\"\"Returns 1 if the location is safe for the queen\"\"\"\n",
    "    if(chessboard[row,col] == 0):\n",
    "        return 1\n",
    "    else:\n",
    "        return 0\n",
    "\n",
    "def attack(chessboard, row, col):\n",
    "    \"\"\"returns the chessboard with marked attack pattern\"\"\"\n",
    "    N = len(chessboard)\n",
    "    \n",
    "    #Vertical\n",
    "    for i in range(0,N):\n",
    "        if( chessboard[i, col] == 1):\n",
    "            continue\n",
    "        else:\n",
    "            chessboard[i,col] = 3\n",
    "            \n",
    "        #Horizontal\n",
    "    for i in range(0,N):\n",
    "        if( chessboard[row, i] == 1):\n",
    "            continue\n",
    "        else:\n",
    "            chessboard[row,i] = 3\n",
    "\n",
    "    #Diagonal down\n",
    "    offset = row - col\n",
    "    for c in range(0,N):\n",
    "        r = c + offset\n",
    "        if(r < 0 or r > N-1):\n",
    "            continue\n",
    "        else:\n",
    "            if(chessboard[r,c] == 1):\n",
    "                continue\n",
    "            else:\n",
    "                chessboard[r,c] = 3;\n",
    "\n",
    "    #Diagonal up\n",
    "    offset = row + col\n",
    "    for c in range(0,N):\n",
    "        r = offset - c\n",
    "        if(r < 0 or r > N-1):\n",
    "            continue\n",
    "        else:\n",
    "            if(chessboard[r,c] == 1):\n",
    "                continue\n",
    "            else:\n",
    "                chessboard[r,c] = 3;\n",
    "\n",
    "    return chessboard\n",
    "\n",
    "def n_queens(chessboard, col=0, count=0):\n",
    "    \"\"\" given a partially filled <chessboard>, try to place a queen in column <col> and recursively fill the board.\n",
    "    Finally return the number of solutions (added to <count>)\"\"\"\n",
    "    N = len(chessboard)\n",
    "\n",
    "    if(col == N):\n",
    "        count += 1\n",
    "        if count < 6:\n",
    "            print_chessboard(chessboard)\n",
    "        return count \n",
    "    \n",
    "    for i in range(N):\n",
    "        #If not the last col then, \n",
    "        #if safe, place the queen in that location\n",
    "        if(safe(chessboard, i, col)):\n",
    "            temp = chessboard.copy()\n",
    "            temp[i,col] = 1\n",
    "            \n",
    "            #Mark the attack path of the recently placed queen\n",
    "            temp = attack(temp, i, col)\n",
    "           \n",
    "            #Recurse into the next column\n",
    "            count = n_queens(temp, col+1, count)\n",
    "            \n",
    "        \n",
    "    \n",
    "    # Examine all available squares in column <col> (value is 0), place the queen, and \n",
    "    # mark all squares under attack by that queen (use anything except 0 or 1).\n",
    "    # Note: you can make a copy of a chessboard using chessboard.copy()\n",
    "    #\n",
    "    \n",
    "    # ????\n",
    "    \n",
    "    return count\n",
    "\n",
    "chessboard = build_chessboard(8)\n",
    "# print(chessboard)\n",
    "count = n_queens(chessboard)\n",
    "print (\"solutions: \", count)"
   ]
  },
  {
   "cell_type": "code",
   "execution_count": 16,
   "metadata": {},
   "outputs": [
    {
     "name": "stdout",
     "output_type": "stream",
     "text": [
      "[[0. 3. 3. 3. 0.]\n",
      " [3. 3. 1. 3. 3.]\n",
      " [0. 3. 3. 3. 0.]\n",
      " [3. 0. 3. 0. 3.]\n",
      " [0. 0. 3. 0. 0.]]\n"
     ]
    }
   ],
   "source": [
    "chessboard = build_chessboard(5)\n",
    "chessboard[1,2] = 1\n",
    "chessboard = attack(chessboard,1,2)\n",
    "print(chessboard)"
   ]
  },
  {
   "cell_type": "code",
   "execution_count": 17,
   "metadata": {},
   "outputs": [
    {
     "name": "stdout",
     "output_type": "stream",
     "text": [
      "....\n",
      "....\n",
      "....\n",
      "....\n",
      "\n",
      "Q...\n",
      "....\n",
      "....\n",
      "....\n",
      "\n",
      "....\n",
      "....\n",
      "....\n",
      "....\n",
      "\n"
     ]
    }
   ],
   "source": [
    "def test(cb):\n",
    "    cb[0,0]=1\n",
    "    print_chessboard(cb)\n",
    "    \n",
    "chessboard = build_chessboard(4)\n",
    "print_chessboard(chessboard)\n",
    "test(chessboard.copy())# try chessboard.copy() instead\n",
    "print_chessboard(chessboard)  # oooops!"
   ]
  },
  {
   "cell_type": "code",
   "execution_count": null,
   "metadata": {},
   "outputs": [],
   "source": []
  },
  {
   "cell_type": "code",
   "execution_count": 18,
   "metadata": {},
   "outputs": [
    {
     "name": "stdout",
     "output_type": "stream",
     "text": [
      "1\n",
      "2\n",
      "1\n"
     ]
    }
   ],
   "source": [
    "def test(b):\n",
    "    b=b+1\n",
    "    print (b)\n",
    "    \n",
    "n = 1\n",
    "print (n)\n",
    "test(n)\n",
    "print (n)"
   ]
  },
  {
   "cell_type": "code",
   "execution_count": 19,
   "metadata": {},
   "outputs": [
    {
     "name": "stdout",
     "output_type": "stream",
     "text": [
      "[1, 2, 3]\n",
      "[1, 2, 3, 1]\n",
      "[1, 2, 3]\n",
      "[1, 2, 3, 1]\n",
      "[1, 2, 3, 1]\n"
     ]
    }
   ],
   "source": [
    "import copy\n",
    "def test(b):\n",
    "    b.append(1)\n",
    "    print (b)\n",
    "    \n",
    "n = [1,2,3]\n",
    "print (n)\n",
    "test(copy.copy(n)) \n",
    "print (n)\n",
    "test(n)\n",
    "print (n)"
   ]
  },
  {
   "cell_type": "code",
   "execution_count": 20,
   "metadata": {},
   "outputs": [
    {
     "data": {
      "text/plain": [
       "[]"
      ]
     },
     "execution_count": 20,
     "metadata": {},
     "output_type": "execute_result"
    }
   ],
   "source": [
    "import copy\n",
    "a=[]\n",
    "copy.deepcopy(a)"
   ]
  },
  {
   "cell_type": "code",
   "execution_count": 21,
   "metadata": {},
   "outputs": [
    {
     "name": "stdout",
     "output_type": "stream",
     "text": [
      "before: a= [2, 4, [6]]\n",
      "after: a= [2, 4, [7]]  b= [3, 4, [7]]  (using copy)\n",
      "after: a= [2, 4, [6]]  b= [3, 4, [7]]  (using deepcopy)\n"
     ]
    }
   ],
   "source": [
    "import copy\n",
    "\n",
    "# copy makes a copy of the outer-most object, but keeps the same references to the inner\n",
    "# object.\n",
    "a=[2,4,[6]]\n",
    "print (\"before: a=\", a)\n",
    "\n",
    "b=copy.copy(a)\n",
    "b[0]+=1\n",
    "b[2][0]+=1\n",
    "\n",
    "print (\"after: a=\",a,\" b=\", b, \" (using copy)\")\n",
    "\n",
    "# deepcopy also makes a copy of each contained element (recursively)\n",
    "a=[2,4,[6]]\n",
    "b=copy.deepcopy(a)\n",
    "b[0]+=1\n",
    "b[2][0]+=1\n",
    "print (\"after: a=\",a,\" b=\", b, \" (using deepcopy)\")\n"
   ]
  },
  {
   "cell_type": "code",
   "execution_count": null,
   "metadata": {},
   "outputs": [],
   "source": []
  }
 ],
 "metadata": {
  "kernelspec": {
   "display_name": "Python 3",
   "language": "python",
   "name": "python3"
  },
  "language_info": {
   "codemirror_mode": {
    "name": "ipython",
    "version": 3
   },
   "file_extension": ".py",
   "mimetype": "text/x-python",
   "name": "python",
   "nbconvert_exporter": "python",
   "pygments_lexer": "ipython3",
   "version": "3.6.4"
  },
  "name": "HW05.ipynb"
 },
 "nbformat": 4,
 "nbformat_minor": 2
}
