{
 "cells": [
  {
   "cell_type": "markdown",
   "metadata": {},
   "source": [
    "# Homework 04\n",
    "- read up on abstract data types (list, queue, stack, deque) on wikipedia\n",
    "- python tutorial chapter 5\n",
    "\n",
    "Name : Vivek Koodli Udupa"
   ]
  },
  {
   "cell_type": "markdown",
   "metadata": {},
   "source": [
    "## Introduction"
   ]
  },
  {
   "cell_type": "code",
   "execution_count": 1,
   "metadata": {},
   "outputs": [
    {
     "name": "stdout",
     "output_type": "stream",
     "text": [
      "[1, 2, 3, 4, 5]\n",
      "s before: [1, 2, 3, 4, 5]\n",
      "pop():  5\n",
      "s after: [1, 2, 3, 4]\n",
      "pop():  4\n",
      "s after: [1, 2, 3]\n",
      "pop(0):  1\n",
      "s finally: [2, 3]\n"
     ]
    }
   ],
   "source": [
    "# Using a Python list (array) and adding/removing elements \n",
    "s=[2,3,4]\n",
    "s.append(5)\n",
    "s.insert(0,1)\n",
    "print (s)\n",
    "print (\"s before:\",s)\n",
    "print (\"pop(): \", s.pop())\n",
    "print (\"s after:\", s)\n",
    "print (\"pop(): \", s.pop())\n",
    "print (\"s after:\", s)\n",
    "print (\"pop(0): \", s.pop(0))\n",
    "print (\"s finally:\", s)"
   ]
  },
  {
   "cell_type": "code",
   "execution_count": 2,
   "metadata": {},
   "outputs": [
    {
     "data": {
      "image/png": "[encoded data removed]",
      "text/plain": [
       "<matplotlib.figure.Figure at 0x7f6be12c40b8>"
      ]
     },
     "metadata": {},
     "output_type": "display_data"
    }
   ],
   "source": [
    "# plotting works very similar to MATLAB\n",
    "%matplotlib inline\n",
    "import matplotlib.pyplot as plt\n",
    "x = [10, 50, 100, 150]\n",
    "y = [3, 5, 10, 22]\n",
    "\n",
    "plt.plot(x, y, 'o-')\n",
    "plt.show()"
   ]
  },
  {
   "cell_type": "code",
   "execution_count": 3,
   "metadata": {},
   "outputs": [
    {
     "name": "stdout",
     "output_type": "stream",
     "text": [
      "5 4 3\n",
      "True\n"
     ]
    }
   ],
   "source": [
    "# Implement a Stack:\n",
    "class MyStack:\n",
    "    \"\"\" simple stack implemented using a Python list (array)\"\"\"\n",
    "    def __init__(self):\n",
    "        self.data = []\n",
    "        \n",
    "    def push(self,x):\n",
    "        self.data.append(x)\n",
    "        \n",
    "    def pop(self):\n",
    "        return self.data.pop()\n",
    "    \n",
    "    def is_empty(self):\n",
    "        return len(self.data) == 0\n",
    "    \n",
    "s = MyStack()\n",
    "s.push(3)\n",
    "s.push(4)\n",
    "s.push(5)\n",
    "print (s.pop(), s.pop(), s.pop())\n",
    "print (s.is_empty())"
   ]
  },
  {
   "cell_type": "code",
   "execution_count": 4,
   "metadata": {},
   "outputs": [
    {
     "name": "stdout",
     "output_type": "stream",
     "text": [
      "3.68 ms ± 344 µs per loop (mean ± std. dev. of 7 runs, 100 loops each)\n",
      "7.14 ms ± 332 µs per loop (mean ± std. dev. of 7 runs, 100 loops each)\n",
      "14.2 ms ± 89.6 µs per loop (mean ± std. dev. of 7 runs, 100 loops each)\n",
      "28.9 ms ± 331 µs per loop (mean ± std. dev. of 7 runs, 10 loops each)\n",
      "58.4 ms ± 475 µs per loop (mean ± std. dev. of 7 runs, 10 loops each)\n",
      "116 ms ± 186 µs per loop (mean ± std. dev. of 7 runs, 10 loops each)\n"
     ]
    }
   ],
   "source": [
    "def stack_fill_and_empty(n):\n",
    "    S = MyStack()\n",
    "    for item in range(n):\n",
    "        S.push(item)\n",
    "        \n",
    "    while n>0:\n",
    "        S.pop()\n",
    "        n -= 1\n",
    "\n",
    "sizes = [10000, 20000, 40000, 80000, 160000, 320000]\n",
    "for n in sizes:\n",
    "    %timeit stack_fill_and_empty(n)"
   ]
  },
  {
   "cell_type": "code",
   "execution_count": 5,
   "metadata": {},
   "outputs": [],
   "source": [
    "import numpy as np\n",
    "def fit_poly(x,y,k):\n",
    "    n = len(x)\n",
    "    x = np.array(x)\n",
    "    y = np.array(y)\n",
    "    A = np.zeros((n,k+1))\n",
    "    for i in range(k+1):\n",
    "        A[:,i] = np.array(x)**i\n",
    "        \n",
    "    c = np.linalg.lstsq(A,y,rcond=-1)[0]\n",
    "    #rcond = -1 to remove the warning\n",
    "    misfit = np.linalg.norm(np.dot(A,c)-y)    \n",
    "    return c, misfit"
   ]
  },
  {
   "cell_type": "code",
   "execution_count": 6,
   "metadata": {},
   "outputs": [
    {
     "name": "stdout",
     "output_type": "stream",
     "text": [
      "coefficients: [ 1.31631093e-08  3.63355747e-04 -6.87500545e-11  1.75744436e-16]\n",
      "misfit: 0.6045639822931783\n"
     ]
    }
   ],
   "source": [
    "x = sizes\n",
    "#y = [4.01, 8.66, 17.6, 35.5, 66.6, 131]    # Replace with times from timeit runs\n",
    "y = [3.5, 7.31, 14, 29.1, 57, 115]\n",
    "c, misfit = fit_poly(x, y, 3) # find a good coefficient!\n",
    "print (\"coefficients:\",c)\n",
    "print (\"misfit:\", misfit)"
   ]
  },
  {
   "cell_type": "code",
   "execution_count": 7,
   "metadata": {},
   "outputs": [
    {
     "data": {
      "image/png": "[encoded data removed]",
      "text/plain": [
       "<matplotlib.figure.Figure at 0x7f6bc84080f0>"
      ]
     },
     "metadata": {},
     "output_type": "display_data"
    }
   ],
   "source": [
    "xx = np.linspace(0,x[-1],100)\n",
    "yy = xx * 0\n",
    "for idx,cc in enumerate(c):\n",
    "    yy = yy + cc*xx**idx\n",
    "\n",
    "plt.plot(x, y, 'o')\n",
    "plt.plot(xx, yy, 'r')\n",
    "plt.show()"
   ]
  },
  {
   "cell_type": "code",
   "execution_count": 8,
   "metadata": {},
   "outputs": [
    {
     "name": "stdout",
     "output_type": "stream",
     "text": [
      "best fitting polynomial: 0.00034262012812696707 x^ 1.003866394124523\n"
     ]
    }
   ],
   "source": [
    "# alternatively fitting f(x)=c0 x^c1:\n",
    "c, misfit = fit_poly(np.log(x),np.log(y),1)\n",
    "print (\"best fitting polynomial:\",np.exp(c[0]),\"x^\",c[1])"
   ]
  },
  {
   "cell_type": "markdown",
   "metadata": {},
   "source": [
    "We can conclude that pushing n elements to the stack and removing them again takes O(n) time. This means each operation is O(1) (on average!) "
   ]
  },
  {
   "cell_type": "markdown",
   "metadata": {},
   "source": [
    "## 1. Test queue operations using a Python list\n",
    "We first use a Python list (array) as an (inefficient) queue. Our test consists of queueing n elements and then dequeueing all of them. Complete the code below, time for different n, create a fit of the right degree and conclude what the cost of queueing and dequeueing one element is. (We just want the naive implementation here, not the circular queue discussed in class. Just use appropriate append() and pop() calls.)"
   ]
  },
  {
   "cell_type": "code",
   "execution_count": 9,
   "metadata": {},
   "outputs": [
    {
     "name": "stdout",
     "output_type": "stream",
     "text": [
      "9.85 ms ± 482 µs per loop (mean ± std. dev. of 7 runs, 100 loops each)\n",
      "31.3 ms ± 441 µs per loop (mean ± std. dev. of 7 runs, 10 loops each)\n",
      "136 ms ± 496 µs per loop (mean ± std. dev. of 7 runs, 10 loops each)\n",
      "617 ms ± 4.68 ms per loop (mean ± std. dev. of 7 runs, 1 loop each)\n",
      "2.65 s ± 16.5 ms per loop (mean ± std. dev. of 7 runs, 1 loop each)\n"
     ]
    }
   ],
   "source": [
    "def fill_and_empty_queue_using_list(n):\n",
    "    L = []\n",
    "    for item in range(n):\n",
    "        # queue item in L (add to end):\n",
    "        L.append(item);\n",
    "       \n",
    "    while n>0:\n",
    "        # dequeue item in L (remove from start):\n",
    "        L.pop(0);\n",
    "        n -= 1\n",
    "\n",
    "sizes = [10000,20000,40000,80000,160000]\n",
    "for n in sizes:\n",
    "       %timeit fill_and_empty_queue_using_list(n)\n",
    "       \n",
    "        "
   ]
  },
  {
   "cell_type": "code",
   "execution_count": 11,
   "metadata": {},
   "outputs": [],
   "source": [
    "#for Timeit of pop only\n",
    "def popper(lisx,n):\n",
    "    while n>0:\n",
    "        lisx.pop(0)\n",
    "        n -= 1\n",
    "\n",
    "\n",
    "\n",
    "    "
   ]
  },
  {
   "cell_type": "code",
   "execution_count": 12,
   "metadata": {},
   "outputs": [
    {
     "name": "stdout",
     "output_type": "stream",
     "text": [
      "8.41 ms ± 1.08 ms per loop (mean ± std. dev. of 7 runs, 100 loops each)\n",
      "29.6 ms ± 1.71 ms per loop (mean ± std. dev. of 7 runs, 10 loops each)\n",
      "137 ms ± 10.7 ms per loop (mean ± std. dev. of 7 runs, 10 loops each)\n",
      "644 ms ± 52.4 ms per loop (mean ± std. dev. of 7 runs, 1 loop each)\n",
      "2.69 s ± 33.3 ms per loop (mean ± std. dev. of 7 runs, 1 loop each)\n"
     ]
    }
   ],
   "source": [
    "#For timeit of pop only\n",
    "sizes = [10000,20000,40000,80000,160000]\n",
    "for n in sizes:\n",
    "    lis = []\n",
    "    for item in range(n):\n",
    "        lis.append(item)\n",
    "    # Time it!    \n",
    "    %timeit popper(lis.copy(), n)\n",
    "\n",
    "    "
   ]
  },
  {
   "cell_type": "code",
   "execution_count": 16,
   "metadata": {},
   "outputs": [
    {
     "name": "stdout",
     "output_type": "stream",
     "text": [
      "coefficients: [ 4.96363518e+00 -9.78856373e-04  1.13229898e-07 -1.39269534e-14]\n",
      "misfit: 2.007098487611242\n"
     ]
    },
    {
     "data": {
      "image/png": "[encoded data removed]",
      "text/plain": [
       "<matplotlib.figure.Figure at 0x7f6bc843ae80>"
      ]
     },
     "metadata": {},
     "output_type": "display_data"
    }
   ],
   "source": [
    "x = sizes\n",
    "#y = [?, ?, ?, ?, ?] # fill with timieit results\n",
    "y = [7.73, 29.3, 130, 652, 2700] #push and pop\n",
    "#y = [0.622, 1.24, 2.48, 5.28, 11.1] #only push\n",
    "#y = [7.32, 29, 147, 644, 2690] #pop only\n",
    "\n",
    "c, misfit = fit_poly(x,y,3) #push and pop\n",
    "#c, misfit = fit_poly(x,y,1) #push only \n",
    "#c, misfit = fit_poly(x,y,3) #pop only\n",
    "print (\"coefficients:\",c )\n",
    "print (\"misfit:\", misfit)\n",
    "\n",
    "xx = np.linspace(0,x[-1],100)\n",
    "yy = xx * 0\n",
    "for idx,cc in enumerate(c):\n",
    "    yy = yy + cc*xx**idx\n",
    "\n",
    "plt.plot(x, y, 'o')\n",
    "plt.plot(xx, yy, 'r')\n",
    "plt.show()"
   ]
  },
  {
   "cell_type": "code",
   "execution_count": 17,
   "metadata": {},
   "outputs": [
    {
     "name": "stdout",
     "output_type": "stream",
     "text": [
      "best fitting polynomial: 1.7569809730680782e-08 x^ 2.1516029500856373\n"
     ]
    }
   ],
   "source": [
    "c, misfit = fit_poly(np.log(x),np.log(y),1)\n",
    "print (\"best fitting polynomial:\",np.exp(c[0]),\"x^\",c[1])"
   ]
  },
  {
   "cell_type": "markdown",
   "metadata": {},
   "source": [
    "fill_and_empty_queue_using_list(n) takes O($n^2$) for n items. Each operation takes O(n) on average . To conclude:\n",
    "1. enqueue one element (append to a list) takes O(n) for n items. Each item takes O(1) on average.\n",
    "2. dequeuing one element (remove from the left) takes O($n^2$) for n items. Each item takes O(n) on average.\n",
    "3. while removing the last element takes O($n^2$)."
   ]
  },
  {
   "cell_type": "markdown",
   "metadata": {},
   "source": [
    "## 2. Using a deque\n",
    "A _deque_ (pronounced \"deck\") or _double-ended queue_ permits both pushes and pops at both the left and right ends of the list.\n",
    "\n",
    "First determine the correct functions to call to enqueue (add to the right) and dequeue (pop from the left) an element from a deque. Try it out in the next block (it should print 1, then 2, then 3).\n",
    "Then complete dequeue_fill_and_empty() with those commands, benchmark it, fit a curve, and conclude."
   ]
  },
  {
   "cell_type": "code",
   "execution_count": 18,
   "metadata": {},
   "outputs": [
    {
     "name": "stdout",
     "output_type": "stream",
     "text": [
      "1\n",
      "2\n",
      "3\n"
     ]
    }
   ],
   "source": [
    "from collections import deque\n",
    "Q = deque()\n",
    "Q.append(1) # enqueue 1\n",
    "Q.append(2) # enqueue 2\n",
    "Q.append(3) # enqueue 3\n",
    "print (Q.popleft()) # dequeue and print\n",
    "print (Q.popleft()) # dequeue and print\n",
    "print (Q.popleft()) # dequeue and print"
   ]
  },
  {
   "cell_type": "code",
   "execution_count": 19,
   "metadata": {},
   "outputs": [
    {
     "name": "stdout",
     "output_type": "stream",
     "text": [
      "1.47 ms ± 101 µs per loop (mean ± std. dev. of 7 runs, 1000 loops each)\n",
      "2.8 ms ± 53.8 µs per loop (mean ± std. dev. of 7 runs, 100 loops each)\n",
      "5.9 ms ± 151 µs per loop (mean ± std. dev. of 7 runs, 100 loops each)\n",
      "11.7 ms ± 126 µs per loop (mean ± std. dev. of 7 runs, 100 loops each)\n",
      "23.6 ms ± 516 µs per loop (mean ± std. dev. of 7 runs, 10 loops each)\n"
     ]
    }
   ],
   "source": [
    "def dequeue_fill_and_empty(n):\n",
    "    L = deque()\n",
    "    for item in range(n):\n",
    "        L.append(item) # enqueue\n",
    "        \n",
    "    while n>0:\n",
    "        L.popleft() # now dequeue\n",
    "        n -= 1\n",
    "\n",
    "sizes = [10000,20000,40000,80000,160000]\n",
    "for n in sizes:\n",
    "    %timeit dequeue_fill_and_empty(n)"
   ]
  },
  {
   "cell_type": "code",
   "execution_count": 20,
   "metadata": {},
   "outputs": [
    {
     "name": "stdout",
     "output_type": "stream",
     "text": [
      "857 µs ± 13.9 µs per loop (mean ± std. dev. of 7 runs, 1000 loops each)\n",
      "1.81 ms ± 196 µs per loop (mean ± std. dev. of 7 runs, 1000 loops each)\n",
      "3.6 ms ± 367 µs per loop (mean ± std. dev. of 7 runs, 100 loops each)\n",
      "6.93 ms ± 110 µs per loop (mean ± std. dev. of 7 runs, 100 loops each)\n",
      "14.8 ms ± 1 ms per loop (mean ± std. dev. of 7 runs, 100 loops each)\n"
     ]
    }
   ],
   "source": [
    "def dequeue_popper(lisx,n):\n",
    "    while n > 0:\n",
    "        lisx.popleft()\n",
    "        n -= 1\n",
    "        \n",
    "        \n",
    "sizes = [10000,20000,40000,80000,160000]\n",
    "for n in sizes:\n",
    "    lis = deque()\n",
    "    for item in range(n):\n",
    "        lis.append(item)\n",
    "    %timeit dequeue_popper(lis.copy(),n)"
   ]
  },
  {
   "cell_type": "code",
   "execution_count": 23,
   "metadata": {},
   "outputs": [
    {
     "name": "stdout",
     "output_type": "stream",
     "text": [
      "coefficients: [-3.16470588e-01  9.76192283e-05 -6.91967110e-11]\n",
      "misfit: 0.39652363491017534\n"
     ]
    },
    {
     "data": {
      "image/png": "[encoded data removed]",
      "text/plain": [
       "<matplotlib.figure.Figure at 0x7f6bc84c0710>"
      ]
     },
     "metadata": {},
     "output_type": "display_data"
    }
   ],
   "source": [
    "x = sizes\n",
    "#y = [?,?,?,?,?] # fill\n",
    "y = [1.32, 2.63, 5.41, 10.9, 22.2] #push and pop\n",
    "#y = [0.606, 1.19, 2.54, 5.73, 10.8] #push only\n",
    "#y = [0.800, 1.6, 3.17, 7.25, 13.5] #pop only\n",
    "\n",
    "c, misfit = fit_poly(x,y,2)\n",
    "print (\"coefficients:\",c)\n",
    "print (\"misfit:\", misfit)\n",
    "\n",
    "xx = np.linspace(0,x[-1],100)\n",
    "yy = xx * 0\n",
    "for idx,cc in enumerate(c):\n",
    "    yy = yy + cc*xx**idx\n",
    "\n",
    "plt.plot(x, y, 'o')\n",
    "plt.plot(xx, yy, 'r')\n",
    "plt.show()"
   ]
  },
  {
   "cell_type": "code",
   "execution_count": 24,
   "metadata": {},
   "outputs": [
    {
     "name": "stdout",
     "output_type": "stream",
     "text": [
      "best fitting polynomial: 5.81073366967962e-05 x^ 1.033354028411659\n"
     ]
    }
   ],
   "source": [
    "# alternatively fitting f(x)=c0 x^c1:\n",
    "c, misfit = fit_poly(np.log(x),np.log(y),1)\n",
    "print (\"best fitting polynomial:\",np.exp(c[0]),\"x^\",c[1])"
   ]
  },
  {
   "cell_type": "markdown",
   "metadata": {},
   "source": [
    "Filling and emptying a queue (n elements) based on Python's deque takes: O($n$). Therefore, a single enqueue() or dequeue() takes: O(1) on average. Read up on wikipedia on \"deque\" an state the cost for the operations for:\n",
    "1. add element on left: O(1) for one element\n",
    "2. add element on right: O(1) for one element\n",
    "3. remove element on left: O(1) for one element\n",
    "4. remove element on right: O(1) for one element\n",
    "\n",
    "Is that what you see?\n",
    "Yes, it looks like each operation takes O(1) for one element, which means it takes O(n) for n items\n"
   ]
  },
  {
   "cell_type": "markdown",
   "metadata": {},
   "source": [
    "## Question 3: Now implement a deque using a doubly-linked list\n",
    "Complete the implementation, make sure the tests work, and finally time the operations."
   ]
  },
  {
   "cell_type": "code",
   "execution_count": 80,
   "metadata": {},
   "outputs": [
    {
     "name": "stdout",
     "output_type": "stream",
     "text": [
      "[[0 1 2 3 4 ]]\n",
      "pop_left: 0\n",
      "pop_right: 4\n",
      "[[1 2 3 ]]\n",
      "pop_left: 1\n",
      "[[2 3 ]]\n",
      "pop_left: 2\n",
      "pop_right: 3\n",
      "[[]]\n",
      "pop_left: None\n",
      "pop_right: None\n"
     ]
    }
   ],
   "source": [
    "class MyDeque:\n",
    "    \"\"\" a double-ended queue implemented using a linked list\"\"\"\n",
    " \n",
    "    class ListItem:\n",
    "        \"\"\" an item in a doubly-linked list\"\"\"\n",
    "        def __init__(self, x, prev, next):\n",
    "            self.item = x\n",
    "            self.prev = prev\n",
    "            self.next = next\n",
    "\n",
    "    def __init__(self):\n",
    "        self.head = None\n",
    "        self.tail = None\n",
    "        \n",
    "    def push_right(self, x):\n",
    "        if self.head == None:\n",
    "            self.head = MyDeque.ListItem(x,None, None)\n",
    "            self.tail = self.head\n",
    "        else:\n",
    "            n = MyDeque.ListItem(x, self.tail, None)\n",
    "            self.tail.next = n\n",
    "            self.tail = n\n",
    "            \n",
    "    def push_left(self, x):\n",
    "        if self.head == None:\n",
    "            self.head = MyDeque.ListItem(x,None, None)\n",
    "            self.tail = self.head\n",
    "        else:\n",
    "            #pass\n",
    "            #n = ????\n",
    "            #????\n",
    "            n = MyDeque.ListItem(x,None,self.head)\n",
    "            self.head.prev = n\n",
    "            self.head = n\n",
    "   \n",
    "    def pop_left(self):\n",
    "        if self.head == None:\n",
    "            return None\n",
    "        item = self.head.item\n",
    "        if self.head.next == None:\n",
    "            self.head = None\n",
    "            self.tail = None\n",
    "        else:\n",
    "            newhead = self.head.next\n",
    "            newhead.prev = None\n",
    "            self.head = newhead\n",
    "        return item\n",
    "    \n",
    "    def pop_right(self):\n",
    "        if self.head == None:\n",
    "            return None\n",
    "        item = self.tail.item\n",
    "        if(self.tail.prev):\n",
    "            self.tail = self.tail.prev\n",
    "            self.tail.next = None\n",
    "        else:\n",
    "            self.head = None\n",
    "            self.tail = None\n",
    "        #????\n",
    "        #????\n",
    "        return item\n",
    "    \n",
    "    def print_it(self):\n",
    "        it = self.head\n",
    "        print (\"[[\", end=\"\")\n",
    "        while it != None:\n",
    "            print (it.item, end=\" \")\n",
    "            it = it.next\n",
    "        print (\"]]\")\n",
    "\n",
    "Q = MyDeque()\n",
    "Q.push_right(1)\n",
    "Q.push_right(2)\n",
    "Q.push_right(3)\n",
    "Q.push_left(0)\n",
    "Q.push_right(4)\n",
    "Q.print_it()\n",
    "print (\"pop_left:\", Q.pop_left())\n",
    "print (\"pop_right:\", Q.pop_right())\n",
    "Q.print_it()\n",
    "print (\"pop_left:\", Q.pop_left())\n",
    "Q.print_it()\n",
    "print (\"pop_left:\", Q.pop_left())\n",
    "print (\"pop_right:\", Q.pop_right())\n",
    "Q.print_it()\n",
    "print (\"pop_left:\", Q.pop_left())\n",
    "print (\"pop_right:\", Q.pop_right())"
   ]
  },
  {
   "cell_type": "code",
   "execution_count": 81,
   "metadata": {},
   "outputs": [
    {
     "name": "stdout",
     "output_type": "stream",
     "text": [
      "[[0 1 2 3 4 ]]\n",
      "[[4 3 2 1 0 ]]\n",
      "[[0 1 2 3 4 ]]\n",
      "[[4 3 2 1 0 ]]\n",
      "ok\n"
     ]
    }
   ],
   "source": [
    "# some more tests:\n",
    "\n",
    "Q = MyDeque()\n",
    "Q.push_left(1)\n",
    "Q.push_right(2)\n",
    "assert(Q.head.item == 1)\n",
    "assert(Q.tail.item == 2)\n",
    "assert(Q.head.next == Q.tail)\n",
    "assert(Q.head.prev == None)\n",
    "assert(Q.tail.prev == Q.head)\n",
    "assert(Q.pop_right()==2)\n",
    "assert(Q.head.item == 1)\n",
    "assert(Q.head == Q.tail)\n",
    "assert(Q.head.prev == None)\n",
    "assert(Q.head.next == None)\n",
    "assert(Q.pop_right()==1)\n",
    "assert(Q.head == None)\n",
    "assert(Q.tail == None)\n",
    "\n",
    "for n in range(5):\n",
    "    Q.push_right(n)\n",
    "Q.print_it()    \n",
    "for n in range(5):\n",
    "    assert(Q.pop_left()==n)\n",
    "assert(Q.pop_left()==None) \n",
    "\n",
    "for n in range(5):\n",
    "    Q.push_left(n)\n",
    "Q.print_it()\n",
    "for n in range(5):\n",
    "    assert(Q.pop_right()==n)\n",
    "assert(Q.pop_right()==None)\n",
    "\n",
    "for n in range(5):\n",
    "    Q.push_right(n)\n",
    "Q.print_it()\n",
    "for n in range(5):\n",
    "    assert(Q.pop_right()==4-n)\n",
    "    \n",
    "for n in range(5):\n",
    "    Q.push_left(n)\n",
    "Q.print_it()\n",
    "for n in range(5):\n",
    "    assert(Q.pop_left()==4-n)\n",
    "\n",
    "print (\"ok\")"
   ]
  },
  {
   "cell_type": "code",
   "execution_count": 82,
   "metadata": {},
   "outputs": [
    {
     "name": "stdout",
     "output_type": "stream",
     "text": [
      "20.3 ms ± 422 µs per loop (mean ± std. dev. of 7 runs, 10 loops each)\n",
      "40.3 ms ± 269 µs per loop (mean ± std. dev. of 7 runs, 10 loops each)\n",
      "81.3 ms ± 488 µs per loop (mean ± std. dev. of 7 runs, 10 loops each)\n",
      "165 ms ± 1.71 ms per loop (mean ± std. dev. of 7 runs, 10 loops each)\n",
      "329 ms ± 5.11 ms per loop (mean ± std. dev. of 7 runs, 1 loop each)\n"
     ]
    }
   ],
   "source": [
    "def test_our_deque(n):\n",
    "    Q = MyDeque()\n",
    "    for idx in range(n):\n",
    "        Q.push_right(n)\n",
    "        Q.push_left(n)\n",
    "        \n",
    "    for idx in range(n):\n",
    "        Q.pop_left()\n",
    "        Q.pop_right()\n",
    "\n",
    "sizes = [10000, 20000, 40000, 80000, 160000]\n",
    "for n in sizes:\n",
    "    %timeit test_our_deque(n)"
   ]
  },
  {
   "cell_type": "markdown",
   "metadata": {},
   "source": [
    "test_our_deque() takes: O($n$) for n items. Therefore, all operations take O(n) for n items as expected!"
   ]
  },
  {
   "cell_type": "code",
   "execution_count": 83,
   "metadata": {},
   "outputs": [
    {
     "name": "stdout",
     "output_type": "stream",
     "text": [
      "coefficients: [-9.07843134e-01  2.07372549e-03 -7.08412399e-11]\n",
      "misfit: 0.9482965185847795\n"
     ]
    },
    {
     "data": {
      "image/png": "[encoded data removed]",
      "text/plain": [
       "<matplotlib.figure.Figure at 0x7fc49dd56908>"
      ]
     },
     "metadata": {},
     "output_type": "display_data"
    }
   ],
   "source": [
    "x = sizes\n",
    "#y = [?,?,?,?,?] # fill\n",
    "y = [20.3, 40.3, 81.3, 165, 329] #push and pop\n",
    "\n",
    "c, misfit = fit_poly(x,y,2)\n",
    "print (\"coefficients:\",c)\n",
    "print (\"misfit:\", misfit)\n",
    "\n",
    "xx = np.linspace(0,x[-1],100)\n",
    "yy = xx * 0\n",
    "for idx,cc in enumerate(c):\n",
    "    yy = yy + cc*xx**idx\n",
    "\n",
    "plt.plot(x, y, 'o')\n",
    "plt.plot(xx, yy, 'r')\n",
    "plt.show()"
   ]
  },
  {
   "cell_type": "code",
   "execution_count": 84,
   "metadata": {},
   "outputs": [
    {
     "name": "stdout",
     "output_type": "stream",
     "text": [
      "best fitting polynomial: 0.0018920129182396386 x^ 1.0070686183480067\n"
     ]
    }
   ],
   "source": [
    "# alternatively fitting f(x)=c0 x^c1:\n",
    "c, misfit = fit_poly(np.log(x),np.log(y),1)\n",
    "print (\"best fitting polynomial:\",np.exp(c[0]),\"x^\",c[1])"
   ]
  },
  {
   "cell_type": "code",
   "execution_count": null,
   "metadata": {},
   "outputs": [],
   "source": []
  }
 ],
 "metadata": {
  "kernelspec": {
   "display_name": "Python 3",
   "language": "python",
   "name": "python3"
  },
  "language_info": {
   "codemirror_mode": {
    "name": "ipython",
    "version": 3
   },
   "file_extension": ".py",
   "mimetype": "text/x-python",
   "name": "python",
   "nbconvert_exporter": "python",
   "pygments_lexer": "ipython3",
   "version": "3.6.4"
  },
  "name": "HW04.ipynb"
 },
 "nbformat": 4,
 "nbformat_minor": 2
}
