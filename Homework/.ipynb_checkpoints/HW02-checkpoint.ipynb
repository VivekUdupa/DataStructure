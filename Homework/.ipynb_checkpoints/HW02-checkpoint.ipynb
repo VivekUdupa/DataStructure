{
 "cells": [
  {
   "cell_type": "markdown",
   "metadata": {},
   "source": [
    "# Homework 02\n",
    "\n",
    "Please fill in: Vivek Koodli Udupa"
   ]
  },
  {
   "cell_type": "markdown",
   "metadata": {},
   "source": [
    "The goal of this homework is to understand iterative and recursive algorithms and complexity. We will use the well known Fibonacci sequence as an example. It is defined as:\n",
    "\n",
    "  $$ P_n = \\begin{cases} 0 & n=0 \\\\ 1 & n=1 \\\\ P_{n-2} + P_{n-1} & \\text{otherwise} \\end{cases} $$"
   ]
  },
  {
   "cell_type": "markdown",
   "metadata": {},
   "source": [
    "## Question 1\n",
    "\n",
    "Write fib_recursive(n) that returns the n-th Fibonacci number as a recursive function using the definition above."
   ]
  },
  {
   "cell_type": "code",
   "execution_count": 3,
   "metadata": {},
   "outputs": [
    {
     "name": "stdout",
     "output_type": "stream",
     "text": [
      "[0, 1, 1, 2, 3, 5, 8, 13, 21, 34, 55, 89, 144, 233, 377, 610, 987, 1597, 2584, 4181]\n"
     ]
    }
   ],
   "source": [
    "def fib_recursive(n):\n",
    "    \n",
    "    global count #To count the cost \n",
    "    count += 1 #incriment at each call\n",
    "    \n",
    "    #base condition fib(0) = 0 and fib(1) = 1\n",
    "    if n < 2: \n",
    "        return n\n",
    "    return fib_recursive(n-2) + fib_recursive(n-1)\n",
    "\n",
    "#initializing the global variable count to prevent the error: name 'count' is not defined \n",
    "count = 0    \n",
    "print ([fib_recursive(n) for n in range(0,20)])"
   ]
  },
  {
   "cell_type": "markdown",
   "metadata": {},
   "source": [
    "### Question 2\n",
    "Write a function fib_recursive_cost(n) that returns the total number of function calls fib_recursive() will make for a given n (it should be 1 for n=1 and 3 for n=2). What sequence is that? What is the complexity of pell_recursive(n)?"
   ]
  },
  {
   "cell_type": "code",
   "execution_count": 2,
   "metadata": {},
   "outputs": [
    {
     "name": "stdout",
     "output_type": "stream",
     "text": [
      "[1, 1, 3, 5, 9, 15, 25, 41, 67, 109, 177, 287, 465, 753, 1219, 1973, 3193, 5167, 8361, 13529]\n"
     ]
    }
   ],
   "source": [
    "def fib_recursive_cost(n):\n",
    "    global count\n",
    "    count = 0\n",
    "    fib_recursive(n)\n",
    "    return count\n",
    "\n",
    "print ([fib_recursive_cost(n) for n in range(0,20)])\n",
    "\n",
    "# this sequence is known as : Exponential sequence. n_k > 2^(k/2)\n",
    "# complexity is : O(2^(n)) "
   ]
  },
  {
   "cell_type": "markdown",
   "metadata": {},
   "source": [
    "## Question 3\n",
    "Write a function fib_iterative(n) that returns the n-th Fibonacci number using an iterative approach (that does not recompute P_2 more than once when computing P_5 for example). Your function should use O(1) memory, i.e., don't create a list of intermediate results. Check your result."
   ]
  },
  {
   "cell_type": "code",
   "execution_count": 4,
   "metadata": {},
   "outputs": [
    {
     "name": "stdout",
     "output_type": "stream",
     "text": [
      "[0, 1, 1, 2, 3, 5, 8, 13, 21, 34, 55, 89, 144, 233, 377, 610, 987, 1597, 2584, 4181]\n"
     ]
    }
   ],
   "source": [
    "def fib_iterative(n):\n",
    "    if n < 2:\n",
    "        return n\n",
    "    else:\n",
    "        #Two variables to store previous 2 results\n",
    "        last = 1 \n",
    "        lastToLast = 0\n",
    "        #Variable to store final answer\n",
    "        answer = 0 \n",
    "        #loop from 1 to given n\n",
    "        for i in range(1,n):\n",
    "            answer = last + lastToLast #sum of the latest 2 numbers from the sequence\n",
    "            #update the sequence at each iteration\n",
    "            lastToLast = last \n",
    "            last = answer\n",
    "    return answer\n",
    "        \n",
    "    \n",
    "print ([fib_iterative(n) for n in range(0,20)])\n"
   ]
  },
  {
   "cell_type": "markdown",
   "metadata": {},
   "source": [
    "## Question 4\n",
    "Write a function fib_iterative_cost(n) that returns the number of additions done to compute fib_iterative(n). What is the complexity of fib_iterative(n)?"
   ]
  },
  {
   "cell_type": "code",
   "execution_count": 4,
   "metadata": {},
   "outputs": [
    {
     "name": "stdout",
     "output_type": "stream",
     "text": [
      "[0, 1, 1, 2, 3, 4, 5, 6, 7, 8, 9, 10, 11, 12, 13, 14, 15, 16, 17, 18]\n"
     ]
    }
   ],
   "source": [
    "def fib_iterative_cost(n):\n",
    "    if(n == 0): \n",
    "        return 0\n",
    "    if(n == 1): \n",
    "        return 1\n",
    "    else:\n",
    "        last = 1\n",
    "        lastToLast = 0\n",
    "        answer = 0\n",
    "        global count\n",
    "        count = 0\n",
    "        for i in range(1,n):\n",
    "            answer = last + lastToLast\n",
    "            lastToLast = last\n",
    "            last = answer\n",
    "            count = count + 1\n",
    "    return count\n",
    "\n",
    "print ([fib_iterative_cost(n) for n in range(0,20)])\n",
    "\n",
    "# complexity is: O(n)"
   ]
  },
  {
   "cell_type": "markdown",
   "metadata": {},
   "source": [
    "## Question 5\n",
    "Write a function fib_recursive_linear(n) that implements the linear recursive Fibonacci number function described in the PowerPoint slides."
   ]
  },
  {
   "cell_type": "code",
   "execution_count": 14,
   "metadata": {},
   "outputs": [
    {
     "name": "stdout",
     "output_type": "stream",
     "text": [
      "[0, 1, 1, 2, 3, 5, 8, 13, 21, 34, 55, 89, 144, 233, 377, 610, 987, 1597, 2584, 4181]\n"
     ]
    }
   ],
   "source": [
    "def fib_recursive_linear(n):\n",
    "    global count\n",
    "    count = 1\n",
    "    res = [0,1]\n",
    "    \n",
    "    if n < 2: \n",
    "        #print (\"count is =\",count)\n",
    "        return n\n",
    "    \n",
    "    #print (\"count is = \", count)\n",
    "    return summation(n,res)\n",
    "    \n",
    "def summation(n,res):\n",
    "    \"\"\"this finds the sum of 2 intermediate elements from 0 till n\"\"\"\n",
    "    global count\n",
    "    \n",
    "    if (n == count) : return (res[1])\n",
    "    \n",
    "    count += 1 #incriment the count\n",
    "    \n",
    "    #swapping without temp\n",
    "    res[0],res[1] = res[1],(res[0]+res[1]) #updating the results\n",
    "    \n",
    "    #swapping using temp\n",
    "    #temp = (res[0] + res[1])\n",
    "    #res[0] = res[1]\n",
    "    #res[1] = temp\n",
    "    \n",
    "    return summation(n,res)\n",
    "\n",
    "count = 0\n",
    "#print ([fib_recursive_linear(n) for n in range (0,20) ])\n",
    "print ([fib_recursive_linear(n) for n in range(0,20)]) \n",
    "#print (fib_recursive_linear(2))"
   ]
  },
  {
   "cell_type": "markdown",
   "metadata": {},
   "source": [
    "## Question 6\n",
    "Write a function fib_recursive_linear_cost(n) that counts the number of additions incurred by a call to fib_recursive_linear(n)."
   ]
  },
  {
   "cell_type": "code",
   "execution_count": 15,
   "metadata": {},
   "outputs": [
    {
     "name": "stdout",
     "output_type": "stream",
     "text": [
      "[1, 1, 2, 3, 4, 5, 6, 7, 8, 9, 10, 11, 12, 13, 14, 15, 16, 17, 18, 19]\n"
     ]
    }
   ],
   "source": [
    "def fib_recursive_linear_cost(n):\n",
    "    global count\n",
    "    fib_recursive_linear(n)\n",
    "    return count\n",
    "\n",
    "count = 0\n",
    "print ([fib_recursive_linear_cost(n) for n in range (0,20) ])"
   ]
  },
  {
   "cell_type": "markdown",
   "metadata": {},
   "source": [
    "## Question 7\n",
    "Write a function fib_recursive_fast(n) that implements the recurrence described in the note accompanying this assignment. "
   ]
  },
  {
   "cell_type": "code",
   "execution_count": 18,
   "metadata": {},
   "outputs": [
    {
     "name": "stdout",
     "output_type": "stream",
     "text": [
      "[0, 1, 1, 2, 3, 5, 8, 13, 21, 34, 55, 89, 144, 233, 377, 610, 987, 1597, 2584, 4181]\n"
     ]
    }
   ],
   "source": [
    "def fib_recursive_fast(n):\n",
    "    global count1\n",
    "    count1 += 1\n",
    "    if n < 3:\n",
    "        if n == 0: \n",
    "            return 0 #F0 = 0\n",
    "        else:\n",
    "            return 1 #F1 = F2 = 1\n",
    "    else:   \n",
    "        if(n % 2 == 1): #Odd number\n",
    "            return ( ((fib_recursive_fast((n+1)/2))**2) + ((fib_recursive_fast((n-1)/2))**2) ) \n",
    "        else:\n",
    "            return (((fib_recursive_fast((n/2)+1))**2) - ((fib_recursive_fast((n/2)-1))**2) )\n",
    "\n",
    "    #return 1\n",
    "count1 = 0                                                    \n",
    "print([fib_recursive_fast(n) for n in range (0,20) ]) \n"
   ]
  },
  {
   "cell_type": "markdown",
   "metadata": {},
   "source": [
    "## Question 8\n",
    "Write a function fib_recursive_fast_cost(n) that counts the additions in fib_recirsive_fast(n). "
   ]
  },
  {
   "cell_type": "code",
   "execution_count": 19,
   "metadata": {},
   "outputs": [
    {
     "name": "stdout",
     "output_type": "stream",
     "text": [
      "[1, 1, 1, 3, 5, 5, 7, 9, 9, 11, 13, 13, 15, 17, 17, 19, 21, 21, 23, 25]\n"
     ]
    }
   ],
   "source": [
    "def fib_recursive_fast_cost(n):\n",
    "    global count1\n",
    "    count1 = 0\n",
    "    fib_recursive_fast(n)\n",
    "    return count1\n",
    "    \n",
    "\n",
    "print ([fib_recursive_fast_cost(n) for n in range (0,20) ])"
   ]
  },
  {
   "cell_type": "markdown",
   "metadata": {},
   "source": [
    "## Question 9\n",
    "Observe the time it takes to compute $F_{10}, F_{20}, F_{30}$. (There is nothing for you to do here except running the following block)"
   ]
  },
  {
   "cell_type": "code",
   "execution_count": 167,
   "metadata": {},
   "outputs": [
    {
     "name": "stdout",
     "output_type": "stream",
     "text": [
      "for n = 10\n",
      "25.2 µs ± 2.4 µs per loop (mean ± std. dev. of 7 runs, 10000 loops each)\n",
      "544 ns ± 2.43 ns per loop (mean ± std. dev. of 7 runs, 1000000 loops each)\n",
      "2.36 µs ± 15.1 ns per loop (mean ± std. dev. of 7 runs, 100000 loops each)\n",
      "4.89 µs ± 20.1 ns per loop (mean ± std. dev. of 7 runs, 100000 loops each)\n",
      "for n = 20\n",
      "2.95 ms ± 37.5 µs per loop (mean ± std. dev. of 7 runs, 100 loops each)\n",
      "882 ns ± 3.23 ns per loop (mean ± std. dev. of 7 runs, 1000000 loops each)\n",
      "4.61 µs ± 63.1 ns per loop (mean ± std. dev. of 7 runs, 100000 loops each)\n",
      "10.1 µs ± 319 ns per loop (mean ± std. dev. of 7 runs, 100000 loops each)\n",
      "for n = 30\n",
      "365 ms ± 15.2 ms per loop (mean ± std. dev. of 7 runs, 1 loop each)\n",
      "1.35 µs ± 31.7 ns per loop (mean ± std. dev. of 7 runs, 1000000 loops each)\n",
      "7.1 µs ± 416 ns per loop (mean ± std. dev. of 7 runs, 100000 loops each)\n",
      "16.3 µs ± 509 ns per loop (mean ± std. dev. of 7 runs, 100000 loops each)\n"
     ]
    }
   ],
   "source": [
    "for n in [10,20,30]:\n",
    "    print (\"for n =\",n)\n",
    "    %timeit fib_recursive(n)\n",
    "    %timeit fib_iterative(n)\n",
    "    %timeit fib_recursive_linear(n)\n",
    "    %timeit fib_recursive_fast(n)"
   ]
  },
  {
   "cell_type": "markdown",
   "metadata": {},
   "source": [
    "## Question 10\n",
    "\n",
    "Look up Fibonacci numbers in Wikipedia and implement a function fib_direct(n) that computes $F_n$ directly. (Your function should return an integer.) Find the smallest value for which the direct formula gives an incorrect result. Explain what went wrong."
   ]
  },
  {
   "cell_type": "code",
   "execution_count": 20,
   "metadata": {},
   "outputs": [
    {
     "name": "stdout",
     "output_type": "stream",
     "text": [
      "difference between direct(71) and fast(71) is  = 1  \n",
      "direct[71] = 308061521170130\n",
      "fast[71] = 308061521170129\n"
     ]
    }
   ],
   "source": [
    "import math\n",
    "def fib_direct(n):\n",
    "    #return 1   #replace this\n",
    "    return round(((1/math.sqrt(5))*(((1+math.sqrt(5))/2)**n) - (1/math.sqrt(5))*(((1-math.sqrt(5))/2)**n))) #Returns rounded int\n",
    "    #return ((1/math.sqrt(5))*(((1+math.sqrt(5))/2)**n) - (1/math.sqrt(5))*(((1-math.sqrt(5))/2)**n))  #returns float\n",
    " \n",
    "direct = [fib_direct(n) for n in range(0,100)] #Store the first 100 fibonicci numbers computed using direct method\n",
    "fast = [fib_recursive_fast(n) for n in range(0,100)] #First 100 fibonicci numbers computed using fast_recursive method\n",
    "\n",
    "#Compare each element to find the difference and print the difference\n",
    "for i in range (0,100):\n",
    "    if(direct[i] != fast[i]):\n",
    "        print(\"difference between direct(%d) and fast(%d) is  = %d  \"%(i,i,(direct[i] - fast[i])))\n",
    "        print(\"direct[%d] = %d\" %(i,direct[i]))\n",
    "        print(\"fast[%d] = %d\" %(i,fast[i]))\n",
    "        break #comment this line to see more differences\n",
    "        \n"
   ]
  },
  {
   "cell_type": "code",
   "execution_count": 3,
   "metadata": {},
   "outputs": [],
   "source": [
    "# Compare fib_direct() and fib_recursive_fast() and find where they differ\n",
    "# The results start to differ from 71st index\n",
    "\n",
    "# Explain\n",
    "# When calculating the  square root, the floating point result is accurate only to a certain range. \n",
    "#he very small error values add up over iterations and show drastic differences at later stages. \n",
    "#Here in this example, the effect is seen at 71st iteration"
   ]
  },
  {
   "cell_type": "markdown",
   "metadata": {},
   "source": [
    "## Question 11\n",
    "Finish the implementation of binary search."
   ]
  },
  {
   "cell_type": "code",
   "execution_count": 21,
   "metadata": {},
   "outputs": [],
   "source": [
    "def binary_search(arr, x, imin, imax):\n",
    "    if imin>imax:\n",
    "        print(\"x = \",x,\" was not found in the array\" )\n",
    "        return -1\n",
    "   \n",
    "\n",
    "    m = (imin+imax)//2\n",
    "    if(x == arr[m]):\n",
    "        print(\"x = \",x,\" found at location \", m)\n",
    "        return m\n",
    "    elif(x < arr[m]):\n",
    "        #print(\"imin = \", imin, \"imax = \", imax)\n",
    "        imax = m-1\n",
    "        return binary_search(arr,x,imin,imax)\n",
    "        \n",
    "    else:\n",
    "        #print(\"imin = \", imin, \"imax = \", imax)\n",
    "        imin = m+1\n",
    "        return binary_search(arr,x,imin,imax)\n",
    "    \n",
    "\n",
    "def find(arr, x):\n",
    "    \"\"\" return index i so that arr[i]==x or -1 if x is not in arr[imin:imax]\"\"\"\n",
    "    #print(\"hello world\")\n",
    "    return binary_search(arr,x,0,len(arr)-1)\n"
   ]
  },
  {
   "cell_type": "code",
   "execution_count": 11,
   "metadata": {},
   "outputs": [
    {
     "name": "stdout",
     "output_type": "stream",
     "text": [
      "x =  8  found at location  3\n",
      "True\n",
      "x =  1  found at location  0\n",
      "True\n",
      "x =  1  found at location  0\n",
      "True\n",
      "x =  4  was not found in the array\n",
      "True\n",
      "x =  1  was not found in the array\n",
      "True\n",
      "x =  1  was not found in the array\n",
      "True\n"
     ]
    }
   ],
   "source": [
    "# checks, make sure they all return true\n",
    "print (3==find([1,3,7,8,11,17],8))\n",
    "print (0==find([1,3,7,8,11],1))\n",
    "print (0==find([1],1))\n",
    "\n",
    "print (-1==find([1,3,7,8,11],4))\n",
    "print (-1==find([],1))\n",
    "print (-1==find([3],1))"
   ]
  },
  {
   "cell_type": "code",
   "execution_count": 12,
   "metadata": {},
   "outputs": [
    {
     "name": "stdout",
     "output_type": "stream",
     "text": [
      "x =  3  was not found in the array\n",
      "-1\n"
     ]
    }
   ],
   "source": [
    "# Why does the algorithm not find the solution in the following example?\n",
    "print (find([4,5,3],3))"
   ]
  },
  {
   "cell_type": "code",
   "execution_count": 79,
   "metadata": {},
   "outputs": [],
   "source": [
    "# Your answer here:\n",
    "#The algorithm fails to find the element 3 in the array is because the array is not sorted. "
   ]
  }
 ],
 "metadata": {
  "kernelspec": {
   "display_name": "Python 3",
   "language": "python",
   "name": "python3"
  },
  "language_info": {
   "codemirror_mode": {
    "name": "ipython",
    "version": 3
   },
   "file_extension": ".py",
   "mimetype": "text/x-python",
   "name": "python",
   "nbconvert_exporter": "python",
   "pygments_lexer": "ipython3",
   "version": "3.6.4"
  }
 },
 "nbformat": 4,
 "nbformat_minor": 2
}
