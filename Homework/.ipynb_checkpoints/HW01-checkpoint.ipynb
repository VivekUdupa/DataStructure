{
 "cells": [
  {
   "cell_type": "markdown",
   "metadata": {},
   "source": [
    "# Homework 01\n",
    "\n",
    "Email : vkoodli@clemson.edu\n",
    "Name : Vivek Koodli Udupa"
   ]
  },
  {
   "cell_type": "markdown",
   "metadata": {},
   "source": [
    "## Question 1\n",
    "The *p*-norm of a vector in *n*-space is the *p*-th root of the sum of *p*-th powers of absolute values of its components. The 2-norm is the usual Euclidean norm. The 1-norm is the sum of absolute values. The infinity norm or max norm is the maximum absolute value. The \"0-norm\" isn't precisely a norm, but it is the number of nonzero components. Write a python function norm(), where norm(v,p) computes the *p*-norm of v. You may assume that v is a list of numbers. The default value for p should be 2, so that norm(v) computes the Euclidean norm. Also, norm(v, 'infty' should compute the max norm of v:\n",
    "\n",
    "\n",
    "# Answer\n",
    "0 norm -> number of non zero components\n",
    "1 norm -> sum of all elements\n",
    "2 norm -> euclidean norm\n",
    "infinity norm -> max absolute number in the list\n",
    "\n",
    "default valus of p -> 2\n",
    "\n",
    "    "
   ]
  },
  {
   "cell_type": "code",
   "execution_count": 6,
   "metadata": {},
   "outputs": [
    {
     "name": "stdout",
     "output_type": "stream",
     "text": [
      "2's norm is : 13.379088160259652\n"
     ]
    }
   ],
   "source": [
    "import math\n",
    "    \n",
    "def norm(v,p=2):\n",
    "    # ...\n",
    "    #pass\n",
    "    \"\"\"Output the p'th norm of the given vector\"\"\"\n",
    "    vecLen = len(v); #vector length\n",
    "    count = 0; # initialize count\n",
    "    mySum = 0; #initialize sum\n",
    "    x = 0;\n",
    "    \n",
    "    #check for zero norm\n",
    "    if (p == 0):                         #if it is zero norm then\n",
    "        i = 0;\n",
    "        for i in range(0,vecLen):        #loop through all vector elements \n",
    "            if ((v[i]) == 0) :           #look for zeros\n",
    "                count += 1               #incriment counter if zero is found\n",
    "        i += 1;                          #incriment the index\n",
    "        print('0 norm is :',count);          #output the result\n",
    "        return \n",
    "   \n",
    "    #check for 1 norm\n",
    "    if (p == 1):                       #if it is 1 norm then\n",
    "        i = 0;                         #initialize i\n",
    "        for i in range(0,vecLen): \n",
    "            mySum += v[i];               #add all vector values\n",
    "            i += 1;\n",
    "        print('1 norm is :',mySum);\n",
    "        return \n",
    "    \n",
    "    #check for 2's norm\n",
    "    elif (p == 2):\n",
    "        i = 0;\n",
    "        for i in range(0,vecLen):\n",
    "                mySum += v[i] ** 2;  #square the elements and add them\n",
    "        sqr = math.sqrt(mySum); # take the square root of teh final sum\n",
    "        print(\"2's norm is :\", sqr);\n",
    "        return \n",
    "        \n",
    "    #infinity norm\n",
    "    elif (p == 'infty'):\n",
    "        x = abs((max(v,key=abs)))\n",
    "        print('infinity norm is: ',x ) #printing the absolute max value in the list\n",
    "        return \n",
    "    \n",
    "    #any other p value\n",
    "    else :\n",
    "        print(\"Please enter a valid value for p\");\n",
    "        print(\"valid p values: 0, 1, 2, infty\");\n",
    "        return \n",
    "            \n",
    "        \n",
    "\n",
    "v = [3.0, -5.0, -12, 0, 1];\n",
    "#v = [2,2,2,0,-2];\n",
    "p = 'infty' #Norm selection\n",
    "norm(v,p)  #works as norp(v) also. Default 2's norm\n"
   ]
  },
  {
   "cell_type": "markdown",
   "metadata": {},
   "source": [
    "## Question 2\n",
    "\n",
    "Write a function print_elements(l) that prints every element of the list l. If an element is a list by itself, recursively call print_elements() for this element instead. To find out if a variable x is a list, use type(x)."
   ]
  },
  {
   "cell_type": "code",
   "execution_count": 7,
   "metadata": {},
   "outputs": [
    {
     "name": "stdout",
     "output_type": "stream",
     "text": [
      "1\n",
      "hello\n",
      "3\n",
      "4\n",
      "5\n",
      "6\n",
      "1\n",
      "2\n",
      "3\n"
     ]
    }
   ],
   "source": [
    "def print_elements(l):\n",
    "    \"\"\"This function prints the elements of the given list\"\"\"\n",
    "    vecLen = len(l); #Length of the list \n",
    "    i = 0; #initiaize i\n",
    "    for i in range(0,vecLen): #Loop from 0 to vecLen\n",
    "            #if an element is a list by itself, recursively call print_elements() \n",
    "            if( type(l[i]) == list ): \n",
    "                print_elements( l[i] );\n",
    "            \n",
    "            #print the element\n",
    "            else:\n",
    "                print(l[i]);\n",
    "    \n",
    "\n",
    "\n",
    "print_elements([[1,\"hello\"], 3, [4,5,6],[1,[2,[3]]]])\n",
    "#x = ([[1,2,3,4],'hello',[1,2,'hello']]);\n",
    "#print_elements(x);"
   ]
  },
  {
   "cell_type": "markdown",
   "metadata": {},
   "source": [
    "## Question 3\n",
    "Python’s random module includes a function shuffle(data) that accepts a list of elements and randomly reorders the elements so that each possible order occurs with equal probability. The random module includes a more basic function randint(a, b) that returns a uniformly random integer from a to b (including both endpoints). Using only the randint function, implement your own version of the shuffle function:"
   ]
  },
  {
   "cell_type": "code",
   "execution_count": 9,
   "metadata": {},
   "outputs": [
    {
     "name": "stdout",
     "output_type": "stream",
     "text": [
      "[1, 2, 3, 7, 4, 6, 10, 5, 8, 9, 'K', 'Q', 'J']\n"
     ]
    }
   ],
   "source": [
    "import random #Needed for randint\n",
    "def my_shuffle(data):\n",
    "    # ...\n",
    "    pass\n",
    "    \"\"\"This function shuffles the given list using randint\"\"\"\n",
    "    vecLen = len(data)\n",
    "    i = 0;\n",
    "    #data2 = [None] * (vecLen);\n",
    "            \n",
    "    for i in range(0, vecLen): \n",
    "        #Generate two random numbers and swap the list elements in those indices\n",
    "        randNum1 = (random.randint(0,(vecLen-1)));\n",
    "        randNum2 = (random.randint(0,(vecLen-1)));\n",
    "        my_swap(data,randNum1,randNum2); #Function to swap the elements\n",
    "    \n",
    "\n",
    "def my_swap(data,a,b):\n",
    "    \"\"\"This function swaps the list elements\"\"\"\n",
    "    temp = data[a]; #store value1 in temp\n",
    "    data[a] = data[b]; #put value2 into value1's place\n",
    "    data[b] = temp; #put value1 to value2's place\n",
    "    \n",
    "             \n",
    "        \n",
    "        \n",
    "deck = [1, 2, 3, 4, 5, 6, 7, 8, 9, 10, \"J\", \"Q\", \"K\"]\n",
    "my_shuffle(deck)\n",
    "print (deck)"
   ]
  },
  {
   "cell_type": "markdown",
   "metadata": {},
   "source": [
    "## Question 4\n",
    "\n",
    "Give an example of a Python code fragment that attempts to write an element to a list based on an index that may be out of bounds. If that index is out of bounds, the program should catch the exception that results, and print the following error message:\n",
    "\n",
    "> Don’t try buffer overflow attacks in Python!"
   ]
  },
  {
   "cell_type": "code",
   "execution_count": 10,
   "metadata": {},
   "outputs": [
    {
     "name": "stdout",
     "output_type": "stream",
     "text": [
      "max index for the list is: 7 \n",
      "\n",
      "z is: 6 || i is: 0\n",
      "z is: 6 || i is: 1\n",
      "z is: 2 || i is: 2\n",
      "z is: 8 || i is: 3\n",
      "\n",
      "Don’t try buffer overflow attacks in Python!\n",
      "Tried to access index 8 which is out of bound\n",
      "\n",
      "original list: ['a', 'b', 2, 'd', 'e', 'f', 1]\n",
      "modified list: ['a', 'b', 2, 'd', 'e', 'f', 1]\n"
     ]
    }
   ],
   "source": [
    "def my_function(myList,bound):\n",
    "    \"\"\"This function writes an element into the list based on its index and prints an error if the index is out of bound\"\"\"\n",
    "    myMax = 10  #a bound for the randint\n",
    "    for i in range(0,myMax):\n",
    "        try:\n",
    "            #Generate a random value between 1 and myMax\n",
    "            z = random.randint(1,myMax) #z is the randomly generated index value that may be out of bound\n",
    "            print(\"z is:\", z, \"|| i is:\",i)\n",
    "            myList[z] = i; #write the value of i in zth index\n",
    "            pass\n",
    "        except IndexError:\n",
    "            #if z value is out of bound, then print the error\n",
    "            print(\"\\nDon’t try buffer overflow attacks in Python!\");\n",
    "            print(\"Tried to access index\",z ,\"which is out of bound\")\n",
    "            return (myList)\n",
    "             \n",
    "\n",
    "\n",
    "myList = ['a', 'b', 'c', 'd', 'e', 'f', 'g'] #List whose length is less than myMax\n",
    "originalList = myList\n",
    "\n",
    "bound = len(myList); #MAX index of the list\n",
    "print(\"max index for the list is:\",bound, \"\\n\")\n",
    "\n",
    "my_function(myList,bound)\n",
    "\n",
    "#Print original and modified list\n",
    "print(\"\\noriginal list:\",originalList)\n",
    "print(\"modified list:\",myList)\n",
    "\n"
   ]
  },
  {
   "cell_type": "code",
   "execution_count": null,
   "metadata": {},
   "outputs": [],
   "source": []
  }
 ],
 "metadata": {
  "kernelspec": {
   "display_name": "Python 3",
   "language": "python",
   "name": "python3"
  },
  "language_info": {
   "codemirror_mode": {
    "name": "ipython",
    "version": 3
   },
   "file_extension": ".py",
   "mimetype": "text/x-python",
   "name": "python",
   "nbconvert_exporter": "python",
   "pygments_lexer": "ipython3",
   "version": "3.6.4"
  }
 },
 "nbformat": 4,
 "nbformat_minor": 1
}
