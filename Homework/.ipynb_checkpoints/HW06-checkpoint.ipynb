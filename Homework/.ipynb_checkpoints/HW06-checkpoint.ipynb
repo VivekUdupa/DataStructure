{
 "cells": [
  {
   "cell_type": "markdown",
   "metadata": {},
   "source": [
    "# Homework 06\n",
    "\n",
    "Name: Vivek Koodli Udupa"
   ]
  },
  {
   "cell_type": "markdown",
   "metadata": {},
   "source": [
    "## Question 1\n",
    "Implement selection sort:"
   ]
  },
  {
   "cell_type": "code",
   "execution_count": 6,
   "metadata": {},
   "outputs": [],
   "source": [
    "def selection_sort(arr):\n",
    "    \"\"\" sort the given array in-place (by swapping elements) using selection sort and return it\"\"\"\n",
    "    n = len(arr)\n",
    "    for i in range(0, n-1):\n",
    "        idxMin = i #minimum index\n",
    "        \n",
    "        #Find the min number in the array\n",
    "        for j in range(i, n):\n",
    "            if(arr[idxMin] > arr[j]):\n",
    "                idxMin = j #index of smallest element\n",
    "        \n",
    "        #swap min with first element\n",
    "        arr[i], arr[idxMin] = arr[idxMin], arr[i]\n",
    "        \n",
    "    return arr"
   ]
  },
  {
   "cell_type": "code",
   "execution_count": 7,
   "metadata": {},
   "outputs": [
    {
     "name": "stdout",
     "output_type": "stream",
     "text": [
      "[5] -> [5]\n",
      "[1, 7, 2, 8, 7] -> [1, 2, 7, 7, 8]\n",
      "[4, 3, 2, 1] -> [1, 2, 3, 4]\n",
      "[1, 2, 3, 4] -> [1, 2, 3, 4]\n",
      "[] -> []\n"
     ]
    }
   ],
   "source": [
    "# check your implementation:\n",
    "a=[5]\n",
    "print (a, end=\" -> \")\n",
    "print (selection_sort(a))\n",
    "\n",
    "a=[1,7,2,8,7]\n",
    "print (a, end=\" -> \")\n",
    "print (selection_sort(a))\n",
    "\n",
    "a=[4,3,2,1]\n",
    "print (a, end=\" -> \")\n",
    "print (selection_sort(a))\n",
    "\n",
    "a=[1,2,3,4]\n",
    "print (a, end=\" -> \")\n",
    "print (selection_sort(a))\n",
    "\n",
    "a=[]\n",
    "print (a, end=\" -> \")\n",
    "print (selection_sort(a))"
   ]
  },
  {
   "cell_type": "markdown",
   "metadata": {},
   "source": [
    "## Question 2\n",
    "finish the implementation of merge sort."
   ]
  },
  {
   "cell_type": "code",
   "execution_count": 132,
   "metadata": {},
   "outputs": [],
   "source": [
    "def merge(left, right):\n",
    "    # merge the two arrays into a sorted array assuming\n",
    "    # left and right are already sorted individually\n",
    "    result = []\n",
    "    i = j = 0\n",
    "    l = len(left)\n",
    "    r = len(right)\n",
    "   \n",
    "    while (i < l and j < r):\n",
    "        if (left[i] < right[j]) :\n",
    "            result.append(left[i])\n",
    "            i += 1\n",
    "        else:\n",
    "            result.append(right[j])\n",
    "            j += 1\n",
    "\n",
    "    while i < l :\n",
    "        result.append(left[i])\n",
    "        i += 1\n",
    "    \n",
    "    while j < r:\n",
    "        result.append(right[j])\n",
    "        j += 1\n",
    "    \n",
    "    return result\n",
    "            \n",
    "def merge_sort(arr):\n",
    "    # sort recursively using merge-sort\n",
    "\n",
    "    n = len(arr)\n",
    "    if n==0:\n",
    "        return []\n",
    "    if n < 2:\n",
    "        return arr[:]\n",
    "    \n",
    "    else:\n",
    "        #find the mid point of the array\n",
    "        mid = n//2\n",
    "\n",
    "        #divide array into 2 parts and \n",
    "        #Recursively call merge sort for left and right\n",
    "        left = merge_sort(arr[0:mid])\n",
    "        right = merge_sort(arr[mid:n])\n",
    "        \n",
    "        #Merge results\n",
    "        result = merge(left, right)\n",
    "        return result\n"
   ]
  },
  {
   "cell_type": "code",
   "execution_count": 134,
   "metadata": {},
   "outputs": [
    {
     "name": "stdout",
     "output_type": "stream",
     "text": [
      "[5] -> [5]\n",
      "[1, 7, 2, 8, 7] -> [1, 2, 7, 7, 8]\n",
      "[4, 3, 2, 1] -> [1, 2, 3, 4]\n",
      "[1, 2, 3, 4] -> [1, 2, 3, 4]\n",
      "[] -> []\n"
     ]
    }
   ],
   "source": [
    "# check your implementation:\n",
    "a=[5]\n",
    "print (a, end=\" -> \")\n",
    "print (merge_sort(a))\n",
    "\n",
    "a=[1,7,2,8,7]\n",
    "print (a, end=\" -> \")\n",
    "print (merge_sort(a))\n",
    "\n",
    "a=[4,3,2,1]\n",
    "print (a, end=\" -> \")\n",
    "print (merge_sort(a))\n",
    "\n",
    "a=[1,2,3,4]\n",
    "print (a, end=\" -> \")\n",
    "print (merge_sort(a))\n",
    "\n",
    "a=[]\n",
    "print (a, end=\" -> \")\n",
    "print (merge_sort(a))"
   ]
  }
 ],
 "metadata": {
  "kernelspec": {
   "display_name": "Python 3",
   "language": "python",
   "name": "python3"
  },
  "language_info": {
   "codemirror_mode": {
    "name": "ipython",
    "version": 3
   },
   "file_extension": ".py",
   "mimetype": "text/x-python",
   "name": "python",
   "nbconvert_exporter": "python",
   "pygments_lexer": "ipython3",
   "version": "3.6.4"
  },
  "name": "HW03.ipynb"
 },
 "nbformat": 4,
 "nbformat_minor": 2
}
