{
 "cells": [
  {
   "cell_type": "markdown",
   "metadata": {},
   "source": [
    "# Python Introduction 1"
   ]
  },
  {
   "cell_type": "markdown",
   "metadata": {},
   "source": [
    "This is a basic introduction to Python. See the Python Tutorial pdf for a more thorough introduction. Execute every cell, make sure you understand what is happening, and feel free to make small edits."
   ]
  },
  {
   "cell_type": "markdown",
   "metadata": {},
   "source": [
    "## A first demo\n",
    "\n",
    "Here is a first demo that shows variables, assignment, while loops, if, print, etc.. Note that grouping of statements is done using indentation (use tab)! Execute the cell using ctrl+enter."
   ]
  },
  {
   "cell_type": "code",
   "execution_count": 2,
   "metadata": {},
   "outputs": [
    {
     "name": "stdout",
     "output_type": "stream",
     "text": [
      "i = 0\n",
      "i = 1\n",
      "i = 2\n",
      "three is special!\n",
      "i = 4\n",
      "i = 5\n",
      "i = 6\n",
      "i = 7\n",
      "i = 8\n",
      "i = 9\n",
      "i = 10 and the square is 100!\n",
      "i = 11 and the square is 121!\n",
      "i = 12 and the square is 144!\n",
      "i = 13 and the square is 169!\n",
      "i = 14 and the square is 196!\n"
     ]
    }
   ],
   "source": [
    "i = 0\n",
    "while i<15:\n",
    "    if i==3:\n",
    "        print(\"three is special!\")\n",
    "    elif i<10:\n",
    "        print (\"i =\",i)\n",
    "    else:\n",
    "        k=i**2\n",
    "        print (\"i = {} and the square is {}!\".format(i,k))\n",
    "    # this is a comment!\n",
    "    i=i+1"
   ]
  },
  {
   "cell_type": "markdown",
   "metadata": {},
   "source": [
    "## Functions\n",
    "defining and documenting functions:"
   ]
  },
  {
   "cell_type": "code",
   "execution_count": 3,
   "metadata": {},
   "outputs": [
    {
     "name": "stdout",
     "output_type": "stream",
     "text": [
      "7\n",
      "Help on function some_function in module __main__:\n",
      "\n",
      "some_function(a, b)\n",
      "    This is a documentation string for this function.\n",
      "    this is the second line of the documentation.\n",
      "\n"
     ]
    }
   ],
   "source": [
    "def some_function(a,b):\n",
    "    \"\"\" This is a documentation string for this function.\n",
    "    this is the second line of the documentation.\n",
    "    \"\"\"\n",
    "    c = a + 2*b\n",
    "    return c\n",
    "\n",
    "print (some_function(1,3))\n",
    "help(some_function)"
   ]
  },
  {
   "cell_type": "markdown",
   "metadata": {},
   "source": [
    "## Numbers and types\n",
    "\n",
    "integers and floating point numbers are treated differently."
   ]
  },
  {
   "cell_type": "code",
   "execution_count": 4,
   "metadata": {},
   "outputs": [
    {
     "name": "stdout",
     "output_type": "stream",
     "text": [
      "-10\n"
     ]
    }
   ],
   "source": [
    "a = 1+1-2*6\n",
    "print (a)"
   ]
  },
  {
   "cell_type": "code",
   "execution_count": 5,
   "metadata": {},
   "outputs": [
    {
     "name": "stdout",
     "output_type": "stream",
     "text": [
      "2.2 2.2 2.0 1\n"
     ]
    }
   ],
   "source": [
    "print (11/5, 11.0/5.0, 11.0//5.0, 11 % 5)"
   ]
  },
  {
   "cell_type": "code",
   "execution_count": 6,
   "metadata": {},
   "outputs": [
    {
     "data": {
      "text/plain": [
       "(int, float, str, list)"
      ]
     },
     "execution_count": 6,
     "metadata": {},
     "output_type": "execute_result"
    }
   ],
   "source": [
    "type(1), type(1.0), type(\"hello\"), type([1])"
   ]
  },
  {
   "cell_type": "markdown",
   "metadata": {},
   "source": [
    "## Lists\n",
    "\n",
    "The basic data structure in Python are Lists (or one-dimensonal arrays). Indexing starts at 0 and each entry can contain any kind of object."
   ]
  },
  {
   "cell_type": "code",
   "execution_count": 7,
   "metadata": {},
   "outputs": [
    {
     "name": "stdout",
     "output_type": "stream",
     "text": [
      "[1, 1, 3, 4]\n",
      "4\n",
      "1\n"
     ]
    }
   ],
   "source": [
    "a = [1,1,3,4]\n",
    "print (a)\n",
    "print (len(a))\n",
    "print (a[0])"
   ]
  },
  {
   "cell_type": "code",
   "execution_count": 8,
   "metadata": {},
   "outputs": [
    {
     "name": "stdout",
     "output_type": "stream",
     "text": [
      "[6, 1, 3, [8, 'hello'], 8]\n"
     ]
    }
   ],
   "source": [
    "a[0] = 6\n",
    "a[-1] = [8, \"hello\"]\n",
    "a.append(2 ** 3)\n",
    "print (a)"
   ]
  },
  {
   "cell_type": "code",
   "execution_count": 9,
   "metadata": {},
   "outputs": [
    {
     "name": "stdout",
     "output_type": "stream",
     "text": [
      "0 1 2 \n",
      "[3, 5, 7, 9, 11]\n"
     ]
    }
   ],
   "source": [
    "for i in range(3):\n",
    "    print (i,end=\" \")\n",
    "print ()\n",
    "print (list(range(3,13,2)))"
   ]
  },
  {
   "cell_type": "markdown",
   "metadata": {},
   "source": [
    "Indexing, slicing, and concatenation:"
   ]
  },
  {
   "cell_type": "code",
   "execution_count": 10,
   "metadata": {},
   "outputs": [
    {
     "name": "stdout",
     "output_type": "stream",
     "text": [
      "5\n",
      "[2, 'three']\n",
      "[1, 2, 'three']\n",
      "['three', [4, 5]]\n",
      "[1, 2, 3, 7, 8, 9]\n"
     ]
    }
   ],
   "source": [
    "a = [1, 2, \"three\", [4,5]]\n",
    "print (a[3][1])\n",
    "print (a[1:3])\n",
    "print (a[:3])\n",
    "print (a[-2:])\n",
    "print ([1,2,3]+list(range(7,10)))"
   ]
  },
  {
   "cell_type": "markdown",
   "metadata": {},
   "source": [
    "Enumerating lists:"
   ]
  },
  {
   "cell_type": "code",
   "execution_count": 1,
   "metadata": {},
   "outputs": [
    {
     "name": "stdout",
     "output_type": "stream",
     "text": [
      "[1.25, 'name', [1, 2, 3]]\n"
     ]
    }
   ],
   "source": [
    "a = [1.25, \"name\", [1,2,3]]\n",
    "print (a)"
   ]
  },
  {
   "cell_type": "code",
   "execution_count": 2,
   "metadata": {},
   "outputs": [
    {
     "name": "stdout",
     "output_type": "stream",
     "text": [
      "(0, ':', 1.25)\n",
      "(1, ':', 'name')\n",
      "(2, ':', [1, 2, 3])\n"
     ]
    }
   ],
   "source": [
    "for i in range(len(a)):\n",
    "    print (i, \":\", a[i])"
   ]
  },
  {
   "cell_type": "code",
   "execution_count": 3,
   "metadata": {},
   "outputs": [
    {
     "name": "stdout",
     "output_type": "stream",
     "text": [
      "1.25\n",
      "name\n",
      "[1, 2, 3]\n"
     ]
    }
   ],
   "source": [
    "for item in a:\n",
    "    print (item)"
   ]
  },
  {
   "cell_type": "code",
   "execution_count": 4,
   "metadata": {},
   "outputs": [
    {
     "name": "stdout",
     "output_type": "stream",
     "text": [
      "(0, 1.25)\n",
      "(1, 'name')\n",
      "(2, [1, 2, 3])\n"
     ]
    }
   ],
   "source": [
    "for i,item in enumerate(a):\n",
    "    print (i, item)"
   ]
  },
  {
   "cell_type": "markdown",
   "metadata": {},
   "source": [
    "List comprehension:"
   ]
  },
  {
   "cell_type": "code",
   "execution_count": 18,
   "metadata": {},
   "outputs": [
    {
     "name": "stdout",
     "output_type": "stream",
     "text": [
      "[1, 4, 9, 16, 25]\n"
     ]
    }
   ],
   "source": [
    "squares = [ k**2 for k in range(1,6) ]\n",
    "print (squares)"
   ]
  },
  {
   "cell_type": "code",
   "execution_count": 17,
   "metadata": {},
   "outputs": [
    {
     "name": "stdout",
     "output_type": "stream",
     "text": [
      "[0, 4, 16, 36, 64]\n"
     ]
    }
   ],
   "source": [
    "even_squares = [ k**2 for k in range(10) if k%2==0 ]\n",
    "print (even_squares)"
   ]
  },
  {
   "cell_type": "markdown",
   "metadata": {},
   "source": [
    "Lists are mutable objects and assignments don't make copies:"
   ]
  },
  {
   "cell_type": "code",
   "execution_count": null,
   "metadata": {},
   "outputs": [],
   "source": [
    "a = [1,2,3]\n",
    "b = a\n",
    "a[0]=4\n",
    "print (a)\n",
    "print (b)"
   ]
  },
  {
   "cell_type": "markdown",
   "metadata": {},
   "source": [
    "## Strings\n",
    "\n",
    "Strings are enclosed in \"\" and can be indexed and concatenated like lists:"
   ]
  },
  {
   "cell_type": "code",
   "execution_count": null,
   "metadata": {},
   "outputs": [],
   "source": [
    "s = \"hello \" + \"my friend!\"\n",
    "print (s)\n",
    "print (len(s))\n",
    "print (s[-4:-1])"
   ]
  },
  {
   "cell_type": "markdown",
   "metadata": {},
   "source": [
    "## Importing libraries, math, dir, help\n",
    "\n"
   ]
  },
  {
   "cell_type": "code",
   "execution_count": null,
   "metadata": {},
   "outputs": [],
   "source": [
    "import math\n",
    "print (math.sin(-math.pi/2.0))"
   ]
  },
  {
   "cell_type": "code",
   "execution_count": null,
   "metadata": {},
   "outputs": [],
   "source": [
    "dir(math)"
   ]
  },
  {
   "cell_type": "code",
   "execution_count": null,
   "metadata": {},
   "outputs": [],
   "source": [
    "help(math.sin)"
   ]
  },
  {
   "cell_type": "code",
   "execution_count": null,
   "metadata": {},
   "outputs": [],
   "source": [
    "from math import cos\n",
    "print (cos(0))"
   ]
  },
  {
   "cell_type": "code",
   "execution_count": null,
   "metadata": {
    "collapsed": true
   },
   "outputs": [],
   "source": []
  }
 ],
 "metadata": {
  "kernelspec": {
   "display_name": "Python 3",
   "language": "python",
   "name": "python3"
  },
  "language_info": {
   "codemirror_mode": {
    "name": "ipython",
    "version": 3
   },
   "file_extension": ".py",
   "mimetype": "text/x-python",
   "name": "python",
   "nbconvert_exporter": "python",
   "pygments_lexer": "ipython3",
   "version": "3.6.4"
  }
 },
 "nbformat": 4,
 "nbformat_minor": 1
}
