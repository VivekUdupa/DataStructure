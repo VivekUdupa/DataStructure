{
 "cells": [
  {
   "cell_type": "markdown",
   "metadata": {},
   "source": [
    "## (Notes for Personal Reference)\n",
    "# Bellman Ford Implementation and Optimization \n",
    "\n",
    "## Things to do:\n",
    "1. Theory \n",
    "    * BellmanFord Naive Method\n",
    "    * Shortest Path Faster Algorithm (SPFA)\n",
    "    * Algorithm mentioned in the paper\n",
    "2. Implement Bellman Ford\n",
    "    * Naive implementation\n",
    "    * SPFA\n",
    "    * Proposed ALgorithm\n",
    "3. Optimization\n",
    "    * How to improve the perfomance of the algorithm?\n",
    "        - SPFA has better performance practically\n",
    "        - Proposoed algorithm uses priority queues to improve the perfomance\n",
    "            * Selecting the nodes in proper order improves the BellmanFord efficiency\n",
    "    * Tracking visited Nodes? \n",
    "4. Dataset\n",
    "    * How will the test data set look like? \n",
    "        - How many Nodes?\n",
    "        - Directed Graphs?\n",
    "        - Costs\n",
    "        - Must select graph's that shows us the importance of selecting nodes in order!\n",
    "    * Automate a random dataset generator\n",
    "5. Extras\n",
    "    * Plotting the graph\n",
    "    * Plotting the final result with highlighted shortest path\n"
   ]
  },
  {
   "cell_type": "markdown",
   "metadata": {},
   "source": [
    "### Personal Notes\n",
    "- Tuples to store Node and its corrosponding cost\n"
   ]
  },
  {
   "cell_type": "code",
   "execution_count": 44,
   "metadata": {},
   "outputs": [],
   "source": [
    "from collections import defaultdict\n",
    "\n",
    "class Graph:\n",
    "    \"\"\"Class representation of Graph\"\"\"\n",
    "    \n",
    "    def __init__(self, vertices):\n",
    "        #Number of vertices\n",
    "        self.V = vertices\n",
    "        #Defalt Dictionary\n",
    "        self.graph = []\n",
    "                \n",
    "    def addEdge(self, x, y, z):\n",
    "        \"\"\"Function to add edges to the graph\"\"\"\n",
    "        self.graph.append([x, y, z])\n",
    "        \n",
    "    def BellmanFord(self, src):\n",
    "        \"\"\"Main function to find the distance from source to all vertices\"\"\"\n",
    "        \n",
    "        #Initialize dist from src to all oter vertices as Infinity\n",
    "        dist = [float(\"Inf\")] * self.V\n",
    "        dist[src] = 0\n",
    "        \n",
    "        #Relaxing |V| - 1 vertices\n",
    "        for i in range(self.V - 1):\n",
    "            for x,y,z in self.graph:\n",
    "                if dist[x] != float(\"Inf\") and dist[x] + z < dist[y]:\n",
    "                    dist[y] = dist[x] + z\n",
    "        \n",
    "        \n",
    "        #Checking for negative weighed cycle\n",
    "        for x,y,z in self.graph:\n",
    "            if dist[x] != float(\"Inf\") and dist[x] + z < dist[y]:\n",
    "                print(\"Negative Weighed Cycle Present\")\n",
    "                return\n",
    "        \n",
    "        #Print all distances\n",
    "        self.printSol(dist)\n",
    "    \n",
    "    def alphaConv(self,i):\n",
    "        \"\"\"Converts integers to alphabets\"\"\"\n",
    "        x = i + 65\n",
    "        return x     \n",
    "    \n",
    "    def printSol(self, dist):\n",
    "        \"\"\"Function to print the solution\"\"\"\n",
    "        print(\"Vertix distance from source\")\n",
    "        print(\"----------------------------\")\n",
    "        print(\"Vertix \\t \\t Distance\")\n",
    "        print(\"------ \\t \\t --------\")\n",
    "        for i in range(self.V):\n",
    "            print(\"  %c \\t\\t   %d\" % ( i+65, dist[i]))\n",
    "        \n",
    "    def getVertices(self):\n",
    "        \"\"\"Returns the umber of vertices\"\"\"\n",
    "        return (self.V)\n",
    "    \n",
    "\n"
   ]
  },
  {
   "cell_type": "code",
   "execution_count": 45,
   "metadata": {},
   "outputs": [
    {
     "name": "stdout",
     "output_type": "stream",
     "text": [
      "Vertix distance from source\n",
      "----------------------------\n",
      "Vertix \t \t Distance\n",
      "------ \t \t --------\n",
      "  A \t\t   0\n",
      "  B \t\t   -1\n",
      "  C \t\t   2\n",
      "  D \t\t   -2\n",
      "  E \t\t   1\n",
      "Number of Vertices : 5\n"
     ]
    }
   ],
   "source": [
    "#Test Case\n",
    "\n",
    "g = Graph(5) \n",
    "g.addEdge(0, 1, -1) \n",
    "g.addEdge(0, 2, 4) \n",
    "g.addEdge(1, 2, 3) \n",
    "g.addEdge(1, 3, 2) \n",
    "g.addEdge(1, 4, 2) \n",
    "g.addEdge(3, 2, 5) \n",
    "g.addEdge(3, 1, 1) \n",
    "g.addEdge(4, 3, -3) \n",
    "  \n",
    "#Print the solution \n",
    "g.BellmanFord(0) \n",
    "\n",
    "print(\"Number of Vertices : %d\" % (g.getVertices()))"
   ]
  },
  {
   "cell_type": "code",
   "execution_count": 41,
   "metadata": {},
   "outputs": [
    {
     "name": "stdout",
     "output_type": "stream",
     "text": [
      "Negative Weighed Cycle Present\n"
     ]
    }
   ],
   "source": [
    "#Test for Negative Cycle\n",
    "t = Graph(5) \n",
    "t.addEdge(0, 1, 5)\n",
    "t.addEdge(0, 2, 4)\n",
    "t.addEdge(1, 3, 3)\n",
    "t.addEdge(2, 1, -6)\n",
    "t.addEdge(3, 2, 2)\n",
    "  \n",
    "#Print the solution \n",
    "t.BellmanFord(0) "
   ]
  },
  {
   "cell_type": "code",
   "execution_count": null,
   "metadata": {},
   "outputs": [],
   "source": []
  }
 ],
 "metadata": {
  "kernelspec": {
   "display_name": "Python 3",
   "language": "python",
   "name": "python3"
  },
  "language_info": {
   "codemirror_mode": {
    "name": "ipython",
    "version": 3
   },
   "file_extension": ".py",
   "mimetype": "text/x-python",
   "name": "python",
   "nbconvert_exporter": "python",
   "pygments_lexer": "ipython3",
   "version": "3.6.4"
  }
 },
 "nbformat": 4,
 "nbformat_minor": 2
}
