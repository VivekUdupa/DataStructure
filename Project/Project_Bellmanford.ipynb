{
 "cells": [
  {
   "cell_type": "markdown",
   "metadata": {},
   "source": [
    "### Imports\n"
   ]
  },
  {
   "cell_type": "code",
   "execution_count": 8,
   "metadata": {},
   "outputs": [],
   "source": [
    "%matplotlib inline\n",
    "import matplotlib.pyplot as plt\n",
    "import math\n",
    "from collections import deque\n",
    "from pylab import rcParams\n",
    "import numpy as np"
   ]
  },
  {
   "cell_type": "markdown",
   "metadata": {},
   "source": [
    "### Graph class"
   ]
  },
  {
   "cell_type": "code",
   "execution_count": 9,
   "metadata": {},
   "outputs": [],
   "source": [
    "class Graph(object):\n",
    "    '''Represents a graph'''\n",
    "\n",
    "    def __init__(self, vertices, edges):\n",
    "        '''A Graph is defined by its set of vertices\n",
    "           and its set of edges.'''\n",
    "        self.V = set(vertices) # The set of vertices\n",
    "        self.E = set([])       # The set of edges\n",
    "        self.neighbors = {}          # A dictionary that will hold the list\n",
    "                               # of adjacent vertices for each vertex.\n",
    "        self.vertex_coordinates = {}       # An optional dictionary that can hold coordinates\n",
    "                               # for the vertices.\n",
    "        self.edge_labels = {}  # a dictionary of labels for edges\n",
    "\n",
    "        self.add_edges(edges)  # Note the call to add_edges will also\n",
    "                               # update the neighbors dictionary\n",
    "        print ('(Initializing a graph with %d vertices and %d edges)' % (len(self.V),len(self.E)))\n",
    "\n",
    "\n",
    "    def add_vertices(self,vertex_list):\n",
    "        ''' This method will add the vertices in the vertex_list\n",
    "            to the set of vertices for this graph. Since V is a\n",
    "            set, duplicate vertices will not be added to V. '''\n",
    "        for v in vertex_list:\n",
    "            self.V.add(v)\n",
    "        self.build_neighbors()\n",
    "\n",
    "\n",
    "    def add_edges(self,edge_list):\n",
    "        ''' This method will add a list of edges to the graph\n",
    "            It will insure that the vertices of each edge are\n",
    "            included in the set of vertices (and not duplicated).\n",
    "            It will also insure that edges are added to the\n",
    "            list of edges and not duplicated. '''\n",
    "        for s,t in edge_list:\n",
    "            if (s,t) not in self.E and (t,s) not in self.E:\n",
    "                self.V.add(s)\n",
    "                self.V.add(t)\n",
    "                self.E.add((s,t))\n",
    "        self.build_neighbors()\n",
    "\n",
    "\n",
    "    def build_neighbors(self):\n",
    "        self.neighbors = {}\n",
    "        for v in self.V:\n",
    "            self.neighbors[v] = []\n",
    "        for e in self.E:\n",
    "            s,t = e\n",
    "            self.neighbors[s].append(t)\n",
    "            self.neighbors[t].append(s)"
   ]
  },
  {
   "cell_type": "markdown",
   "metadata": {},
   "source": [
    "### Network class"
   ]
  },
  {
   "cell_type": "code",
   "execution_count": 10,
   "metadata": {},
   "outputs": [],
   "source": [
    "class Network(Graph):    \n",
    "    def __init__(self, vertices, edge_weights):\n",
    "        ''' Initialize the network with a list of vertices\n",
    "        and weights (a dictionary with keys (E1, E2) and values are the weights)'''\n",
    "\n",
    "        edges = []\n",
    "        for e1,e2 in edge_weights:\n",
    "            edges.append((e1,e2))\n",
    "        \n",
    "        Graph.__init__(self, vertices, edges)\n",
    "        self.weights = {}\n",
    "        for e1,e2 in edge_weights:\n",
    "            weight = edge_weights[(e1,e2)]\n",
    "            self.weights[(e1,e2)] = weight\n",
    "            self.weights[(e2,e1)] = weight\n",
    "        self.edge_labels = self.weights"
   ]
  },
  {
   "cell_type": "markdown",
   "metadata": {},
   "source": [
    "### Bellman Ford naive implementation"
   ]
  },
  {
   "cell_type": "code",
   "execution_count": 19,
   "metadata": {},
   "outputs": [],
   "source": [
    "def BellmanFord(network, source):\n",
    "    \n",
    "    #Number of vertices\n",
    "    vertCount = len(network.V)\n",
    "    \n",
    "    #Initialize distance to infinity and source distance to 0\n",
    "    distance = [np.inf] * vertCount\n",
    "    distance[source] = 0\n",
    "    \n",
    "    #Check every vertix and relax nodes V - 1 times\n",
    "    for i in range(vertCount - 1):\n",
    "        for e in network.E:\n",
    "            u,v = e\n",
    "            if not np.isinf(distance[u]) and distance[v] > distance[u] + network.weights[(u,v)]:\n",
    "                distance[v] = distance[u] + network.weights[(u,v)]\n",
    "    \n",
    "    #Negative Cycle check\n",
    "    #Any update after V - 1 iterations indicate negative cycles\n",
    "    for e in network.E:\n",
    "        u,v = e\n",
    "        if not np.isinf(distance[u]) and distance[v] > distance[u] + network.weights[(u,v)]:\n",
    "            print(\"\\nNegative Cycle Detected\\n\")\n",
    "            return distance, vertCount\n",
    "        \n",
    "#     printSol(distance, vertCount)\n",
    "    return distance, vertCount\n",
    "    \n",
    "def printSol(distance, count):\n",
    "    \"\"\"Prints the shortest distance from source to all otehr vertices in the graph\"\"\"\n",
    "    print(\"\\nVertix distance from source\")\n",
    "    print(\"----------------------------\")\n",
    "    print(\"Vertix \\t \\t Distance\")\n",
    "    print(\"------ \\t \\t --------\")\n",
    "    for i in range(count):\n",
    "        print(\"  %c \\t\\t   %d\" % ( i+65, distance[i]))"
   ]
  },
  {
   "cell_type": "markdown",
   "metadata": {},
   "source": [
    "### Test case 1 : Geeks for geeks dataset"
   ]
  },
  {
   "cell_type": "code",
   "execution_count": 29,
   "metadata": {},
   "outputs": [
    {
     "name": "stdout",
     "output_type": "stream",
     "text": [
      "(Initializing a graph with 5 vertices and 7 edges)\n",
      "{(0, 1): -1, (1, 0): -1, (0, 2): 4, (2, 0): 4, (1, 2): 3, (2, 1): 3, (1, 3): 1, (3, 1): 1, (1, 4): 2, (4, 1): 2, (3, 2): 5, (2, 3): 5, (4, 3): -3, (3, 4): -3}\n",
      "\n",
      "Vertix distance from source\n",
      "----------------------------\n",
      "Vertix \t \t Distance\n",
      "------ \t \t --------\n",
      "  A \t\t   0\n",
      "  B \t\t   -1\n",
      "  C \t\t   2\n",
      "  D \t\t   -2\n",
      "  E \t\t   1\n"
     ]
    }
   ],
   "source": [
    "V = [0, 1, 2, 3, 4]\n",
    "# W = {(0, 2):3, (0, 1):6, (0, 3):7, (1, 2):1, (1, 3):2, (2, 4):10, (1, 4):4}\n",
    "W = {(0, 1):-1, (0, 2):4, (1,2):3, (1,3):2, (1,4):2, (3,2):5, (3,1):1, (4,3):-3}\n",
    "G1 = Network(V,W)\n",
    "print (G1.weights)\n",
    "\n",
    "distance, count = BellmanFord(G1,0)\n",
    "printSol(distance,count)"
   ]
  },
  {
   "cell_type": "markdown",
   "metadata": {},
   "source": [
    "### Test case 2: Negative Cycles"
   ]
  },
  {
   "cell_type": "code",
   "execution_count": 18,
   "metadata": {},
   "outputs": [
    {
     "name": "stdout",
     "output_type": "stream",
     "text": [
      "(Initializing a graph with 4 vertices and 5 edges)\n",
      "{(0, 1): 5, (1, 0): 5, (0, 2): 4, (2, 0): 4, (1, 3): 3, (3, 1): 3, (2, 1): -6, (1, 2): -6, (3, 2): 2, (2, 3): 2}\n",
      "\n",
      "Negative Cycle Detected\n",
      "\n",
      "Vertix distance from source\n",
      "----------------------------\n",
      "Vertix \t \t Distance\n",
      "------ \t \t --------\n",
      "  A \t\t   0\n",
      "  B \t\t   -2\n",
      "  C \t\t   4\n",
      "  D \t\t   1\n"
     ]
    }
   ],
   "source": [
    "V = [0, 1, 2, 3]\n",
    "W = {(0, 1):5, (0, 2):4, (1,3):3, (2,1):-6, (3,2):2}\n",
    "G2 = Network(V,W)\n",
    "print (G2.weights)\n",
    "\n",
    "distance, count = BellmanFord(G2,0)\n",
    "printSol(distance,count)"
   ]
  },
  {
   "cell_type": "markdown",
   "metadata": {},
   "source": [
    "### SPFA FIFO"
   ]
  },
  {
   "cell_type": "code",
   "execution_count": 27,
   "metadata": {},
   "outputs": [],
   "source": [
    "def SPFA_FIFO(network, source):\n",
    "    \"\"\"SPFA with FIFO queues\"\"\"\n",
    "    #vertices count\n",
    "    vertCount = len(network.V)\n",
    "    \n",
    "    #Flag to see if queue is empty\n",
    "    flag = True\n",
    "    \n",
    "    #Initialize distance to infinity and source distance to 0\n",
    "    distance = [np.inf] * vertCount\n",
    "    distance[source] = 0\n",
    "    \n",
    "    #Initialize the visited node array\n",
    "    visited = [0] * vertCount\n",
    "    \n",
    "    #A doubly ended queue to store visited vertices\n",
    "    Q = deque();\n",
    "    \n",
    "    #Initialize the deque by adding the source node\n",
    "    Q.append(source)\n",
    "    \n",
    "    #Run as long as the queue is not empty\n",
    "    while(flag):\n",
    "        \n",
    "        x = Q.popleft()\n",
    "        \n",
    "        for i in network.neighbors[x]:\n",
    "            visited[i] = visited[i] + 1 #Visited count\n",
    "            if(visited[i] > vertCount - 1):\n",
    "                print(\"\\nNegative Cycles Found\\n\")\n",
    "                return distance, vertCount\n",
    "            else:\n",
    "                if distance[i] > distance[x] + network.weights[(x,i)]:\n",
    "                    distance[i] = distance[x] + network.weights[(x,i)]\n",
    "                    if not(i in Q):\n",
    "                        Q.append(i)\n",
    "        if(Q):\n",
    "            flag = 1 #Not empty\n",
    "        else:\n",
    "            flag = 0 #Empty\n",
    "    \n",
    "    return distance, vertCount"
   ]
  },
  {
   "cell_type": "code",
   "execution_count": 28,
   "metadata": {},
   "outputs": [
    {
     "name": "stdout",
     "output_type": "stream",
     "text": [
      "(Initializing a graph with 5 vertices and 7 edges)\n",
      "{(0, 1): -1, (1, 0): -1, (0, 2): 4, (2, 0): 4, (1, 2): 3, (2, 1): 3, (1, 3): 1, (3, 1): 1, (1, 4): 2, (4, 1): 2, (3, 2): 5, (2, 3): 5, (4, 3): -3, (3, 4): -3}\n",
      "\n",
      "Negative Cycles Found\n",
      "\n",
      "\n",
      "Vertix distance from source\n",
      "----------------------------\n",
      "Vertix \t \t Distance\n",
      "------ \t \t --------\n",
      "  A \t\t   -2\n",
      "  B \t\t   -3\n",
      "  C \t\t   2\n",
      "  D \t\t   0\n",
      "  E \t\t   -3\n"
     ]
    }
   ],
   "source": [
    "V = [0, 1, 2, 3, 4]\n",
    "# W = {(0, 2):3, (0, 1):6, (0, 3):7, (1, 2):1, (1, 3):2, (2, 4):10, (1, 4):4}\n",
    "W = {(0, 1):-1, (0, 2):4, (1,2):3, (1,3):2, (1,4):2, (3,2):5, (3,1):1, (4,3):-3}\n",
    "G1 = Network(V,W)\n",
    "print (G1.weights)\n",
    "\n",
    "distance, count = SPFA_FIFO(G1,0)\n",
    "printSol(distance,count)"
   ]
  },
  {
   "cell_type": "code",
   "execution_count": null,
   "metadata": {},
   "outputs": [],
   "source": []
  }
 ],
 "metadata": {
  "kernelspec": {
   "display_name": "Python 3",
   "language": "python",
   "name": "python3"
  },
  "language_info": {
   "codemirror_mode": {
    "name": "ipython",
    "version": 3
   },
   "file_extension": ".py",
   "mimetype": "text/x-python",
   "name": "python",
   "nbconvert_exporter": "python",
   "pygments_lexer": "ipython3",
   "version": "3.6.4"
  }
 },
 "nbformat": 4,
 "nbformat_minor": 2
}
