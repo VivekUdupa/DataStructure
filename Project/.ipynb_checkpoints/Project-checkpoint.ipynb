{
 "cells": [
  {
   "cell_type": "markdown",
   "metadata": {},
   "source": [
    "# Bellman Ford Implementation and Optimization \n",
    "\n",
    "## Things to do:\n",
    "1. Theory \n",
    "    * BellmanFord Naive Method\n",
    "    * Shortest Path Faster Algorithm (SPFA)\n",
    "    * Algorithm mentioned in the paper\n",
    "2. Implement Bellman Ford\n",
    "    * Naive implementation\n",
    "    * SPFA\n",
    "    * Proposed ALgorithm\n",
    "3. Optimization\n",
    "    * How to improve the perfomance of the algorithm?\n",
    "        - SPFA has better performance practically\n",
    "        - Proposoed algorithm uses priority queues to improve the perfomance\n",
    "            * Selecting the nodes in proper order improves the BellmanFord efficiency\n",
    "    * Tracking visited Nodes? \n",
    "4. Dataset\n",
    "    * How will the test data set look like? \n",
    "        - How many Nodes?\n",
    "        - Directed Graphs?\n",
    "        - Costs\n",
    "        - Must select graph's that shows us the importance of selecting nodes in order!\n",
    "    * Automate a random dataset generator\n",
    "5. Extras\n",
    "    * Plotting the graph\n",
    "    * Plotting the final result with highlighted shortest path\n"
   ]
  },
  {
   "cell_type": "markdown",
   "metadata": {},
   "source": [
    "### Personal Notes\n",
    "- Tuples to store Node and its corrosponding cost\n"
   ]
  },
  {
   "cell_type": "code",
   "execution_count": 8,
   "metadata": {},
   "outputs": [
    {
     "name": "stdout",
     "output_type": "stream",
     "text": [
      "Vertix distance from source\n",
      "0 \t\t 0\n",
      "1 \t\t -1\n",
      "2 \t\t 2\n",
      "3 \t\t -2\n",
      "4 \t\t 1\n",
      "vertices: 5\n"
     ]
    }
   ],
   "source": [
    "from collections import defaultdict\n",
    "\n",
    "class Graph:\n",
    "    \"\"\"Class representation of Graph\"\"\"\n",
    "    \n",
    "    def __init__(self, vertices):\n",
    "        #Number of vertices\n",
    "        self.V = vertices\n",
    "        #Defalt Dictionary\n",
    "        self.digraph = []\n",
    "        \n",
    "    def addEdge(self, x, y, z):\n",
    "        \"\"\"Function to add edges to the graph\"\"\"\n",
    "        self.digraph.append([x, y, z])\n",
    "        \n",
    "    def BellmanFord(self, src):\n",
    "        \"\"\"Main function to find the distance from source to all vertices\"\"\"\n",
    "        \n",
    "        #Initialize dist from src to all oter vertices as Infinity\n",
    "        dist = [float(\"Inf\")] * self.V\n",
    "        dist[src] = 0\n",
    "        \n",
    "        #Relaxing |V| - 1 vertices\n",
    "        for i in range(self.V - 1):\n",
    "            for x,y,z in self.digraph:\n",
    "                if dist[x] != float(\"Inf\") and dist[x] + z < dist[y]:\n",
    "                    dist[y] = dist[x] + z\n",
    "        \n",
    "        #Checking for negative weighed cycle\n",
    "        for x,y,z in self.digraph:\n",
    "            if dist[x] != float(\"Inf\") and dist[x] + z < dist[y]:\n",
    "                print(\"Negative Weighed Cycle Present\")\n",
    "                return\n",
    "        \n",
    "        #Print all distances\n",
    "        self.printSol(dist)\n",
    "        \n",
    "    def printSol(self, dist):\n",
    "        \"\"\"Function to print the solution\"\"\"\n",
    "        print(\"Vertix distance from source\")\n",
    "        print(\"----------------------------\")\n",
    "        for i in range(self.V):\n",
    "            print(\"%d \\t\\t %d\" % (i, dist[i]))\n",
    "        \n",
    "    def getVertices(self):\n",
    "        \"\"\"Returns the umber of vertices\"\"\"\n",
    "        return (self.V)\n",
    "    \n",
    "g = Graph(5) \n",
    "g.addEdge(0, 1, -1) \n",
    "g.addEdge(0, 2, 4) \n",
    "g.addEdge(1, 2, 3) \n",
    "g.addEdge(1, 3, 2) \n",
    "g.addEdge(1, 4, 2) \n",
    "g.addEdge(3, 2, 5) \n",
    "g.addEdge(3, 1, 1) \n",
    "g.addEdge(4, 3, -3) \n",
    "  \n",
    "#Print the solution \n",
    "g.BellmanFord(0) \n",
    "\n",
    "print(\"Number of Vertices : %d\" % (g.getVertices()))"
   ]
  },
  {
   "cell_type": "code",
   "execution_count": 9,
   "metadata": {},
   "outputs": [
    {
     "ename": "AttributeError",
     "evalue": "'Graph' object has no attribute 'is_directed'",
     "output_type": "error",
     "traceback": [
      "\u001b[0;31m---------------------------------------------------------------------------\u001b[0m",
      "\u001b[0;31mAttributeError\u001b[0m                            Traceback (most recent call last)",
      "\u001b[0;32m<ipython-input-9-2777dd3891f0>\u001b[0m in \u001b[0;36m<module>\u001b[0;34m()\u001b[0m\n\u001b[1;32m      4\u001b[0m \u001b[0;32mimport\u001b[0m \u001b[0mmatplotlib\u001b[0m\u001b[0;34m.\u001b[0m\u001b[0mpyplot\u001b[0m \u001b[0;32mas\u001b[0m \u001b[0mplt\u001b[0m\u001b[0;34m\u001b[0m\u001b[0m\n\u001b[1;32m      5\u001b[0m \u001b[0;34m\u001b[0m\u001b[0m\n\u001b[0;32m----> 6\u001b[0;31m \u001b[0mwrite_dot\u001b[0m\u001b[0;34m(\u001b[0m\u001b[0mg\u001b[0m\u001b[0;34m,\u001b[0m\u001b[0;34m'test.dot'\u001b[0m\u001b[0;34m)\u001b[0m\u001b[0;34m\u001b[0m\u001b[0m\n\u001b[0m\u001b[1;32m      7\u001b[0m \u001b[0;34m\u001b[0m\u001b[0m\n\u001b[1;32m      8\u001b[0m \u001b[0mplt\u001b[0m\u001b[0;34m.\u001b[0m\u001b[0mtitle\u001b[0m\u001b[0;34m(\u001b[0m\u001b[0;34m'draw_networkx'\u001b[0m\u001b[0;34m)\u001b[0m\u001b[0;34m\u001b[0m\u001b[0m\n",
      "\u001b[0;32m~/anaconda3/lib/python3.6/site-packages/networkx/drawing/nx_agraph.py\u001b[0m in \u001b[0;36mwrite_dot\u001b[0;34m(G, path)\u001b[0m\n\u001b[1;32m    190\u001b[0m         raise ImportError('requires pygraphviz ',\n\u001b[1;32m    191\u001b[0m                           'http://pygraphviz.github.io/')\n\u001b[0;32m--> 192\u001b[0;31m     \u001b[0mA\u001b[0m \u001b[0;34m=\u001b[0m \u001b[0mto_agraph\u001b[0m\u001b[0;34m(\u001b[0m\u001b[0mG\u001b[0m\u001b[0;34m)\u001b[0m\u001b[0;34m\u001b[0m\u001b[0m\n\u001b[0m\u001b[1;32m    193\u001b[0m     \u001b[0mA\u001b[0m\u001b[0;34m.\u001b[0m\u001b[0mwrite\u001b[0m\u001b[0;34m(\u001b[0m\u001b[0mpath\u001b[0m\u001b[0;34m)\u001b[0m\u001b[0;34m\u001b[0m\u001b[0m\n\u001b[1;32m    194\u001b[0m     \u001b[0mA\u001b[0m\u001b[0;34m.\u001b[0m\u001b[0mclear\u001b[0m\u001b[0;34m(\u001b[0m\u001b[0;34m)\u001b[0m\u001b[0;34m\u001b[0m\u001b[0m\n",
      "\u001b[0;32m~/anaconda3/lib/python3.6/site-packages/networkx/drawing/nx_agraph.py\u001b[0m in \u001b[0;36mto_agraph\u001b[0;34m(N)\u001b[0m\n\u001b[1;32m    137\u001b[0m         raise ImportError('requires pygraphviz ',\n\u001b[1;32m    138\u001b[0m                           'http://pygraphviz.github.io/')\n\u001b[0;32m--> 139\u001b[0;31m     \u001b[0mdirected\u001b[0m \u001b[0;34m=\u001b[0m \u001b[0mN\u001b[0m\u001b[0;34m.\u001b[0m\u001b[0mis_directed\u001b[0m\u001b[0;34m(\u001b[0m\u001b[0;34m)\u001b[0m\u001b[0;34m\u001b[0m\u001b[0m\n\u001b[0m\u001b[1;32m    140\u001b[0m     \u001b[0mstrict\u001b[0m \u001b[0;34m=\u001b[0m \u001b[0mnx\u001b[0m\u001b[0;34m.\u001b[0m\u001b[0mnumber_of_selfloops\u001b[0m\u001b[0;34m(\u001b[0m\u001b[0mN\u001b[0m\u001b[0;34m)\u001b[0m \u001b[0;34m==\u001b[0m \u001b[0;36m0\u001b[0m \u001b[0;32mand\u001b[0m \u001b[0;32mnot\u001b[0m \u001b[0mN\u001b[0m\u001b[0;34m.\u001b[0m\u001b[0mis_multigraph\u001b[0m\u001b[0;34m(\u001b[0m\u001b[0;34m)\u001b[0m\u001b[0;34m\u001b[0m\u001b[0m\n\u001b[1;32m    141\u001b[0m     \u001b[0mA\u001b[0m \u001b[0;34m=\u001b[0m \u001b[0mpygraphviz\u001b[0m\u001b[0;34m.\u001b[0m\u001b[0mAGraph\u001b[0m\u001b[0;34m(\u001b[0m\u001b[0mname\u001b[0m\u001b[0;34m=\u001b[0m\u001b[0mN\u001b[0m\u001b[0;34m.\u001b[0m\u001b[0mname\u001b[0m\u001b[0;34m,\u001b[0m \u001b[0mstrict\u001b[0m\u001b[0;34m=\u001b[0m\u001b[0mstrict\u001b[0m\u001b[0;34m,\u001b[0m \u001b[0mdirected\u001b[0m\u001b[0;34m=\u001b[0m\u001b[0mdirected\u001b[0m\u001b[0;34m)\u001b[0m\u001b[0;34m\u001b[0m\u001b[0m\n",
      "\u001b[0;31mAttributeError\u001b[0m: 'Graph' object has no attribute 'is_directed'"
     ]
    }
   ],
   "source": [
    "#For Plotting  the graph\n",
    "import networkx as nx\n",
    "from networkx.drawing.nx_agraph import write_dot, graphviz_layout\n",
    "import matplotlib.pyplot as plt\n",
    "\n",
    "write_dot(g,'test.dot')\n",
    "\n",
    "plt.title('draw_networkx')\n",
    "pos =graphviz_layout(g, prog='dot')\n",
    "nx.draw(g, pos, with_labels=False, arrows=True)\n",
    "plt.savefig('nx_test.png')"
   ]
  },
  {
   "cell_type": "code",
   "execution_count": null,
   "metadata": {},
   "outputs": [],
   "source": []
  }
 ],
 "metadata": {
  "kernelspec": {
   "display_name": "Python 3",
   "language": "python",
   "name": "python3"
  },
  "language_info": {
   "codemirror_mode": {
    "name": "ipython",
    "version": 3
   },
   "file_extension": ".py",
   "mimetype": "text/x-python",
   "name": "python",
   "nbconvert_exporter": "python",
   "pygments_lexer": "ipython3",
   "version": "3.6.4"
  }
 },
 "nbformat": 4,
 "nbformat_minor": 2
}
