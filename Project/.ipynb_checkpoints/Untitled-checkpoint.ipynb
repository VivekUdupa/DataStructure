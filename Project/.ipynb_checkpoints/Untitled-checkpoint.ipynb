{
 "cells": [
  {
   "cell_type": "markdown",
   "metadata": {},
   "source": [
    "# Bellman Ford Implementation and Optimization \n",
    "\n",
    "## Things to do:\n",
    "1. Theory of Bellman Ford\n",
    "    * Naive Method\n",
    "2. Implement Bellman Ford\n",
    "    * Naive implementation\n",
    "3. Optimization\n",
    "    * How to improve the perfomance of the algorithm?\n",
    "    * Tracking visited Nodes? \n",
    "    * \n",
    "4. Dataset\n",
    "    * How will the test data set look like? \n",
    "        - How many Nodes?\n",
    "        - Directed Graphs?\n",
    "        - Costs\n",
    "    * Automate a random dataset generator\n",
    "5. Extras\n",
    "    * Plotting the graph\n",
    "    * Plotting the final result with highlighted shortest path\n"
   ]
  },
  {
   "cell_type": "markdown",
   "metadata": {},
   "source": [
    "### Personal Notes\n",
    "- Tuples to store Node and its corrosponding cost"
   ]
  },
  {
   "cell_type": "code",
   "execution_count": null,
   "metadata": {},
   "outputs": [],
   "source": []
  }
 ],
 "metadata": {
  "kernelspec": {
   "display_name": "Python 3",
   "language": "python",
   "name": "python3"
  },
  "language_info": {
   "codemirror_mode": {
    "name": "ipython",
    "version": 3
   },
   "file_extension": ".py",
   "mimetype": "text/x-python",
   "name": "python",
   "nbconvert_exporter": "python",
   "pygments_lexer": "ipython3",
   "version": "3.6.4"
  }
 },
 "nbformat": 4,
 "nbformat_minor": 2
}
